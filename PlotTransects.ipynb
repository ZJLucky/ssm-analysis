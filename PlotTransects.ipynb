{
 "cells": [
  {
   "cell_type": "code",
   "execution_count": 1,
   "metadata": {},
   "outputs": [],
   "source": [
    "data_cdf = \"model_results/test_do_transect.nc\"\n",
    "\n",
    "transect_shp = \"gis/transect_sjf_thru_puget_sound.shp\"\n",
    "variable = \"controlDOXG\"\n",
    "start_date = \"2014-01-01\"\n",
    "\n",
    "# TODO:\n",
    "# - transect name\n",
    "# - location labels along the transect\n",
    "\n",
    "from pathlib import Path\n",
    "from os import path\n",
    "from netCDF4 import Dataset\n",
    "import geopandas as gpd\n",
    "import pandas as pd\n",
    "import numpy as np\n",
    "import matplotlib.pyplot as plt\n",
    "import matplotlib.tri as tri\n",
    "import matplotlib.cm as cm\n",
    "import matplotlib.colors as colors\n",
    "import matplotlib.animation as animation\n",
    "#%matplotlib widget\n",
    "%matplotlib inline"
   ]
  },
  {
   "cell_type": "code",
   "execution_count": 2,
   "metadata": {},
   "outputs": [
    {
     "data": {
      "text/plain": [
       "<class 'netCDF4._netCDF4.Dataset'>\n",
       "root group (NETCDF4 data model, file format HDF5):\n",
       "    dimensions(sizes): time(216), node(236), siglay(10)\n",
       "    variables(dimensions): int32 node(node), float32 time(time), float32 siglay(siglay), float32 zeta(time, node), float32 controlDOXG(time, siglay, node)\n",
       "    groups: "
      ]
     },
     "execution_count": 2,
     "metadata": {},
     "output_type": "execute_result"
    }
   ],
   "source": [
    "data = Dataset(data_cdf)\n",
    "data"
   ]
  },
  {
   "cell_type": "code",
   "execution_count": 3,
   "metadata": {},
   "outputs": [
    {
     "data": {
      "text/plain": [
       "0.04166667"
      ]
     },
     "execution_count": 3,
     "metadata": {},
     "output_type": "execute_result"
    }
   ],
   "source": [
    "timestep = data['time'][2] - data['time'][1]\n",
    "timestep"
   ]
  },
  {
   "cell_type": "code",
   "execution_count": 4,
   "metadata": {},
   "outputs": [],
   "source": [
    "out_base = Path(data_cdf).stem\n",
    "transect_base = Path(transect_shp).stem\n",
    "out_file = lambda name: path.join(\"notebook_outs\", out_base + \"_\" + transect_base + \"_\" + name)"
   ]
  },
  {
   "cell_type": "code",
   "execution_count": 5,
   "metadata": {},
   "outputs": [
    {
     "data": {
      "text/html": [
       "<div>\n",
       "<style scoped>\n",
       "    .dataframe tbody tr th:only-of-type {\n",
       "        vertical-align: middle;\n",
       "    }\n",
       "\n",
       "    .dataframe tbody tr th {\n",
       "        vertical-align: top;\n",
       "    }\n",
       "\n",
       "    .dataframe thead th {\n",
       "        text-align: right;\n",
       "    }\n",
       "</style>\n",
       "<table border=\"1\" class=\"dataframe\">\n",
       "  <thead>\n",
       "    <tr style=\"text-align: right;\">\n",
       "      <th></th>\n",
       "      <th>depth</th>\n",
       "      <th>geometry</th>\n",
       "    </tr>\n",
       "    <tr>\n",
       "      <th>node_id</th>\n",
       "      <th></th>\n",
       "      <th></th>\n",
       "    </tr>\n",
       "  </thead>\n",
       "  <tbody>\n",
       "    <tr>\n",
       "      <th>1159</th>\n",
       "      <td>257.800720</td>\n",
       "      <td>POINT (374011.682 5370035.740)</td>\n",
       "    </tr>\n",
       "    <tr>\n",
       "      <th>1252</th>\n",
       "      <td>191.153000</td>\n",
       "      <td>POINT (377292.015 5370100.970)</td>\n",
       "    </tr>\n",
       "    <tr>\n",
       "      <th>1339</th>\n",
       "      <td>191.626007</td>\n",
       "      <td>POINT (380243.734 5368997.670)</td>\n",
       "    </tr>\n",
       "    <tr>\n",
       "      <th>1338</th>\n",
       "      <td>191.858002</td>\n",
       "      <td>POINT (383314.237 5367358.850)</td>\n",
       "    </tr>\n",
       "    <tr>\n",
       "      <th>1423</th>\n",
       "      <td>185.763000</td>\n",
       "      <td>POINT (386738.325 5366096.140)</td>\n",
       "    </tr>\n",
       "  </tbody>\n",
       "</table>\n",
       "</div>"
      ],
      "text/plain": [
       "              depth                        geometry\n",
       "node_id                                            \n",
       "1159     257.800720  POINT (374011.682 5370035.740)\n",
       "1252     191.153000  POINT (377292.015 5370100.970)\n",
       "1339     191.626007  POINT (380243.734 5368997.670)\n",
       "1338     191.858002  POINT (383314.237 5367358.850)\n",
       "1423     185.763000  POINT (386738.325 5366096.140)"
      ]
     },
     "execution_count": 5,
     "metadata": {},
     "output_type": "execute_result"
    }
   ],
   "source": [
    "transect = gpd.read_file(transect_shp)\n",
    "transect.set_index('node_id', inplace=True)\n",
    "transect.head()"
   ]
  },
  {
   "cell_type": "code",
   "execution_count": 6,
   "metadata": {},
   "outputs": [
    {
     "data": {
      "text/html": [
       "<div>\n",
       "<style scoped>\n",
       "    .dataframe tbody tr th:only-of-type {\n",
       "        vertical-align: middle;\n",
       "    }\n",
       "\n",
       "    .dataframe tbody tr th {\n",
       "        vertical-align: top;\n",
       "    }\n",
       "\n",
       "    .dataframe thead th {\n",
       "        text-align: right;\n",
       "    }\n",
       "</style>\n",
       "<table border=\"1\" class=\"dataframe\">\n",
       "  <thead>\n",
       "    <tr style=\"text-align: right;\">\n",
       "      <th></th>\n",
       "      <th>depth</th>\n",
       "      <th>geometry</th>\n",
       "      <th>distance</th>\n",
       "    </tr>\n",
       "    <tr>\n",
       "      <th>node_id</th>\n",
       "      <th></th>\n",
       "      <th></th>\n",
       "      <th></th>\n",
       "    </tr>\n",
       "  </thead>\n",
       "  <tbody>\n",
       "    <tr>\n",
       "      <th>1159</th>\n",
       "      <td>257.800720</td>\n",
       "      <td>POINT (374011.682 5370035.740)</td>\n",
       "      <td>0.000000</td>\n",
       "    </tr>\n",
       "    <tr>\n",
       "      <th>1252</th>\n",
       "      <td>191.153000</td>\n",
       "      <td>POINT (377292.015 5370100.970)</td>\n",
       "      <td>3.280981</td>\n",
       "    </tr>\n",
       "    <tr>\n",
       "      <th>1339</th>\n",
       "      <td>191.626007</td>\n",
       "      <td>POINT (380243.734 5368997.670)</td>\n",
       "      <td>6.432158</td>\n",
       "    </tr>\n",
       "    <tr>\n",
       "      <th>1338</th>\n",
       "      <td>191.858002</td>\n",
       "      <td>POINT (383314.237 5367358.850)</td>\n",
       "      <td>9.912635</td>\n",
       "    </tr>\n",
       "    <tr>\n",
       "      <th>1423</th>\n",
       "      <td>185.763000</td>\n",
       "      <td>POINT (386738.325 5366096.140)</td>\n",
       "      <td>13.562131</td>\n",
       "    </tr>\n",
       "  </tbody>\n",
       "</table>\n",
       "</div>"
      ],
      "text/plain": [
       "              depth                        geometry   distance\n",
       "node_id                                                       \n",
       "1159     257.800720  POINT (374011.682 5370035.740)   0.000000\n",
       "1252     191.153000  POINT (377292.015 5370100.970)   3.280981\n",
       "1339     191.626007  POINT (380243.734 5368997.670)   6.432158\n",
       "1338     191.858002  POINT (383314.237 5367358.850)   9.912635\n",
       "1423     185.763000  POINT (386738.325 5366096.140)  13.562131"
      ]
     },
     "execution_count": 6,
     "metadata": {},
     "output_type": "execute_result"
    }
   ],
   "source": [
    "# Calculate the distance between adjacent nodes in the transect\n",
    "transect['distance'] = transect['geometry'][1:].distance(transect['geometry'][:-1], align=False)\n",
    "# Set the first one to zero since it's currently NaN\n",
    "transect.loc[transect.index == transect.index[0], 'distance'] = 0\n",
    "# Transform into a running total in km\n",
    "transect['distance'] = transect['distance'].cumsum() / 1000\n",
    "transect.head()"
   ]
  },
  {
   "cell_type": "code",
   "execution_count": 7,
   "metadata": {},
   "outputs": [
    {
     "data": {
      "image/png": "[encoded data removed]",
      "text/plain": [
       "<Figure size 720x432 with 2 Axes>"
      ]
     },
     "metadata": {
      "needs_background": "light"
     },
     "output_type": "display_data"
    }
   ],
   "source": [
    "mycmap = 'plasma'\n",
    "\n",
    "fig, ax = plt.subplots(figsize=(10,6))\n",
    "# Draw the submerged earth\n",
    "ax.fill_between(transect['distance'], -1 * transect['depth'].max(),\n",
    "                -1 * transect['depth'], color='tab:brown', zorder=2)\n",
    "# Give a nice line for the bottom\n",
    "ax.plot(transect['distance'], -1 * transect['depth'], 'k', zorder=3)\n",
    "ax.set(xbound=(0, transect['distance'].max()), ybound=(-1 * transect['depth'].max(), 10),\n",
    "       xlabel=\"Distance along Transect (km)\", ylabel=\"Depth (m)\")\n",
    "node_indices = np.searchsorted(data['node'][:], transect.index.to_numpy())\n",
    "dates = pd.Timestamp(start_date) + pd.to_timedelta(data['time'][:], 'd')\n",
    "date_text = ax.text(transect['distance'].max() - 0.02 * (transect['distance'].max() -\n",
    "                                                        transect['distance'].min()),\n",
    "                    -1 * transect['depth'].max() + 10, dates[0].strftime(\"%Y-%m-%d %X\"),\n",
    "                    backgroundcolor='w', alpha=0.8, ha='right', va='baseline')\n",
    "\n",
    "all_vals = data[variable][:,:, node_indices]\n",
    "norm = colors.Normalize(all_vals.min(), all_vals.max())\n",
    "\n",
    "sfc = None\n",
    "tcf = None\n",
    "colorbar = None\n",
    "\n",
    "def animate(t):\n",
    "    global sfc, tcf, cbar_ax, fig, colorbar\n",
    "    zetas = data['zeta'][t, node_indices]\n",
    "    if sfc is None:\n",
    "        sfc, = ax.plot(transect['distance'], zetas, 'b')\n",
    "    else:\n",
    "        sfc.set_data(transect['distance'], zetas)\n",
    "    artists = [sfc]\n",
    "    # Take the difference of the water surface elevations (zetas) and the depths\n",
    "    # (transect['depth']) at each point to get the thickness of the water column.\n",
    "    # Multiply this by the sigma layer depth fractions to get the z value that\n",
    "    # corresponds to each layer at each node, with some linear algebra needed to\n",
    "    # make the multiplication and final array dimensions work out how we want\n",
    "    zs = (transect['depth'].to_numpy() - zetas)[np.newaxis].T * data['siglay'][:]\n",
    "    # Offset z by the tide height (the adjusted zero point)\n",
    "    zs += zetas[np.newaxis].T\n",
    "\n",
    "    # Repeat the distances to get matching x coordinates for the z's\n",
    "    xs = np.repeat(transect['distance'].to_numpy(), zs.shape[1])\n",
    "    xs.shape # (2360,)\n",
    "\n",
    "    vals = data[variable][t, :, node_indices].T.flatten()\n",
    "    if tcf is not None:\n",
    "        for c in tcf.collections:\n",
    "            c.remove()\n",
    "    tcf = ax.tricontourf(xs, zs.data.flatten(), vals, cmap=mycmap)\n",
    "    artists += tcf.collections\n",
    "    if colorbar is None:\n",
    "        colorbar = fig.colorbar(tcf)\n",
    "        artists += colorbar.lines\n",
    "    ax.set(xbound=(0, transect['distance'].max()), ybound=(-1 * transect['depth'].max(), 10))\n",
    "    date_text.set_text(dates[t].strftime(\"%Y-%m-%d %X\"))\n",
    "    return artists\n",
    "\n",
    "anim = animation.FuncAnimation(fig, animate, data['time'].size, blit=True)\n",
    "anim.save(out_file(\"{0}.mp4\".format(variable)))"
   ]
  },
  {
   "cell_type": "code",
   "execution_count": null,
   "metadata": {},
   "outputs": [],
   "source": []
  }
 ],
 "metadata": {
  "kernelspec": {
   "display_name": "Python [conda env:ssm-analysis]",
   "language": "python",
   "name": "conda-env-ssm-analysis-py"
  },
  "language_info": {
   "codemirror_mode": {
    "name": "ipython",
    "version": 3
   },
   "file_extension": ".py",
   "mimetype": "text/x-python",
   "name": "python",
   "nbconvert_exporter": "python",
   "pygments_lexer": "ipython3",
   "version": "3.8.12"
  }
 },
 "nbformat": 4,
 "nbformat_minor": 4
}

{
 "cells": [
  {
   "cell_type": "code",
   "execution_count": 1,
   "id": "71ed7fb7-3f42-4105-a400-e539e326ed5c",
   "metadata": {},
   "outputs": [],
   "source": [
    "hydro_output_cdf = '/net/babaracus/home/benr/wqmodels/ssm/unionriver/hyd/1x_1pass/OUTPUT/netcdf/ssm_*.nc'\n",
    "rivers_cdf = '../input_files/data/fvcom_riv_2014.nc'\n",
    "extracts_path = '/home/benr/wqmodels/lo/LiveOcean_output/tef/union1x'\n",
    "#section_names = ['LynchCove','Twanoh']\n",
    "section_names = ['AdmInlet2','AdmInlet3','HoodCanalEntrance']\n",
    "#section_names = ['HoodCanalEntrance','Edgewater']\n",
    "#section_names = ['HoodCanalEntrance']\n",
    "\n",
    "node_shapefile = '../gis/ssm filled domain nodes.shp'\n",
    "\n",
    "import os.path as path\n",
    "from multiprocessing import Pool\n",
    "\n",
    "from netCDF4 import Dataset, MFDataset\n",
    "import networkx as nx\n",
    "import numpy as np\n",
    "from scipy.interpolate import interp1d\n",
    "from scipy import ndimage\n",
    "import matplotlib.pyplot as plt\n",
    "import pandas as pd\n",
    "import geopandas as gpd\n",
    "from fvcom import FvcomGrid"
   ]
  },
  {
   "cell_type": "code",
   "execution_count": 2,
   "id": "323bc6fb-1111-4088-a171-c8b57588d6e3",
   "metadata": {},
   "outputs": [
    {
     "data": {
      "text/plain": [
       "<class 'netCDF4._netCDF4.MFDataset'>\n",
       "root group (NETCDF3_CLASSIC data model, file format NETCDF3):\n",
       "    title: FVCOM Velocity Blockage Test(Updated Block with Kelp June 2013)                 \n",
       "    institution: School for Marine Science and Technology\n",
       "    source: FVCOM_2.7\n",
       "    history: model started at: 17/08/2022   07:51\n",
       "    references: http://fvcom.smast.umassd.edu\n",
       "    Conventions: CF-1.0\n",
       "    dimensions = ('scalar', 'node', 'nele', 'siglay', 'siglev', 'three', 'four', 'obc', 'obc2', 'time')\n",
       "    variables = ('nprocs', 'partition', 'Initial_Density', 'x', 'y', 'lon', 'lat', 'siglay', 'siglay_shift', 'siglev', 'h', 'nv', 'a1u', 'a2u', 'aw0', 'awx', 'awy', 'time', 'iint', 'u', 'v', 'ww', 'wts', 'uard_obcn', 'xflux_obc', 'dtfa', 'kh', 'zeta', 'salinity', 'temp')\n",
       "    groups = ()"
      ]
     },
     "execution_count": 2,
     "metadata": {},
     "output_type": "execute_result"
    }
   ],
   "source": [
    "hydro_output = MFDataset(hydro_output_cdf)\n",
    "hydro_output"
   ]
  },
  {
   "cell_type": "code",
   "execution_count": 3,
   "id": "60bbfcd5-8a51-4a03-a5ab-052707ac4612",
   "metadata": {},
   "outputs": [
    {
     "data": {
      "text/plain": [
       "<class 'netCDF4._netCDF4.Dataset'>\n",
       "root group (NETCDF4 data model, file format HDF5):\n",
       "    gtagex: union1x\n",
       "    date_string0: 2014.01.01\n",
       "    date_string1: 2015.01.02\n",
       "    dimensions(sizes): xi_sect(10), s_z(10), ocean_time(8784), sdir_str(2), xy(2)\n",
       "    variables(dimensions): float64 ocean_time(ocean_time), float64 salt(ocean_time, s_z, xi_sect), float64 q(ocean_time, s_z, xi_sect), float64 z0(s_z, xi_sect), float64 DA0(s_z, xi_sect), float64 lon(xi_sect), float64 lat(xi_sect), float64 h(xi_sect), int64 ele(xi_sect), float64 zeta(ocean_time, xi_sect), float64 n(xi_sect, xy)\n",
       "    groups: "
      ]
     },
     "metadata": {},
     "output_type": "display_data"
    },
    {
     "data": {
      "text/plain": [
       "<class 'netCDF4._netCDF4.Dataset'>\n",
       "root group (NETCDF4 data model, file format HDF5):\n",
       "    gtagex: union1x\n",
       "    date_string0: 2014.01.01\n",
       "    date_string1: 2015.01.02\n",
       "    dimensions(sizes): xi_sect(12), s_z(10), ocean_time(8784), sdir_str(2), xy(2)\n",
       "    variables(dimensions): float64 ocean_time(ocean_time), float64 salt(ocean_time, s_z, xi_sect), float64 q(ocean_time, s_z, xi_sect), float64 z0(s_z, xi_sect), float64 DA0(s_z, xi_sect), float64 lon(xi_sect), float64 lat(xi_sect), float64 h(xi_sect), int64 ele(xi_sect), float64 zeta(ocean_time, xi_sect), float64 n(xi_sect, xy)\n",
       "    groups: "
      ]
     },
     "metadata": {},
     "output_type": "display_data"
    },
    {
     "data": {
      "text/plain": [
       "<class 'netCDF4._netCDF4.Dataset'>\n",
       "root group (NETCDF4 data model, file format HDF5):\n",
       "    gtagex: union1x\n",
       "    date_string0: 2014.01.01\n",
       "    date_string1: 2015.01.02\n",
       "    dimensions(sizes): xi_sect(6), s_z(10), ocean_time(8784), sdir_str(2), xy(2)\n",
       "    variables(dimensions): float64 ocean_time(ocean_time), float64 salt(ocean_time, s_z, xi_sect), float64 q(ocean_time, s_z, xi_sect), float64 z0(s_z, xi_sect), float64 DA0(s_z, xi_sect), float64 lon(xi_sect), float64 lat(xi_sect), float64 h(xi_sect), int64 ele(xi_sect), float64 zeta(ocean_time, xi_sect), float64 n(xi_sect, xy)\n",
       "    groups: "
      ]
     },
     "metadata": {},
     "output_type": "display_data"
    }
   ],
   "source": [
    "section_files = {}\n",
    "section_extractions = {}\n",
    "for s in section_names:\n",
    "    f = path.join(extracts_path, 'extractions/' + s + '.nc')\n",
    "    section_files[s] = f\n",
    "    section_extractions[s] = Dataset(f)\n",
    "    display(section_extractions[s])"
   ]
  },
  {
   "cell_type": "code",
   "execution_count": 4,
   "id": "f6a4a215-5dc1-4289-a6c1-3cc5c24d5311",
   "metadata": {},
   "outputs": [
    {
     "data": {
      "text/plain": [
       "FvcomGrid(ncoord=array([[4.1320981e+05, 4.0058141e+05, 3.9043006e+05, ..., 4.9810700e+05,\n",
       "        4.9905700e+05, 4.9871100e+05],\n",
       "       [4.9160915e+06, 4.9165735e+06, 4.9164565e+06, ..., 5.2337970e+06,\n",
       "        5.2338140e+06, 5.2341420e+06],\n",
       "       [1.0275730e+02, 1.6055827e+02, 1.6055827e+02, ..., 4.0000000e+00,\n",
       "        4.0000000e+00, 4.0000000e+00]], dtype=float32), nv=masked_array(\n",
       "  data=[[   88,    88,     2, ..., 16008, 16009, 16009],\n",
       "        [   89,     1,    90, ..., 16009, 16012, 16010],\n",
       "        [    1,     2,    88, ..., 16011, 16011, 16012]],\n",
       "  mask=False,\n",
       "  fill_value=999999), calc=True)"
      ]
     },
     "execution_count": 4,
     "metadata": {},
     "output_type": "execute_result"
    }
   ],
   "source": [
    "grid = FvcomGrid.from_output(hydro_output)\n",
    "grid"
   ]
  },
  {
   "cell_type": "markdown",
   "id": "a12afaf4-a3d8-421d-bf2d-67fa4f01e1be",
   "metadata": {},
   "source": [
    "# Define the Control Volume\n",
    "\n",
    "First, identify all of the nodes adjacent to the section elements on the upstream and downstream sides.\n",
    "\n",
    "If you're trying to understand this code I strongly recommend looking at it alongside a section plot."
   ]
  },
  {
   "cell_type": "code",
   "execution_count": 5,
   "id": "c48480ff-27aa-4e91-8846-4d2bd91e2831",
   "metadata": {},
   "outputs": [
    {
     "data": {
      "text/plain": [
       "{'AdmInlet2': ({5925, 5926, 5927, 5928, 6019, 6024},\n",
       "  {5816, 5817, 5818, 5819, 5924, 5929}),\n",
       " 'AdmInlet3': ({7511, 7605, 7607, 7608, 7609, 7702, 7792},\n",
       "  {7420, 7510, 7512, 7513, 7514, 7610, 7703}),\n",
       " 'HoodCanalEntrance': ({7161, 7162, 7163, 7164}, {7081, 7082, 7083, 7084})}"
      ]
     },
     "execution_count": 5,
     "metadata": {},
     "output_type": "execute_result"
    }
   ],
   "source": [
    "def get_section_nodes(f):\n",
    "    s = Dataset(f)\n",
    "    upstream_nodes = set()\n",
    "    downstream_nodes = set()\n",
    "    for ele,n,prev in zip(s['ele'], s['n'][:,:], np.concatenate(([0], s['ele'][:-1]))):\n",
    "        if prev == 0:\n",
    "            # Find the two nodes along the starting edge\n",
    "            nodes = grid.nv[grid.nbe[:,ele-1].nonzero()[0], ele-1]\n",
    "        else:\n",
    "            # Find the nodes shared with the previous element\n",
    "            which_prev_nei = (grid.nbe[:, prev - 1] == ele).nonzero()[0]\n",
    "            non_nei_idxs = (np.arange(3) != which_prev_nei).nonzero()[0]\n",
    "            nodes = grid.nv[non_nei_idxs, prev - 1]\n",
    "        midpoint = np.mean(grid.ncoord[:2, nodes-1], axis=1)\n",
    "        # Construct a vector from the element centroid to the shared/edge midpoint\n",
    "        center = grid.elcoord[:2, ele-1]\n",
    "        a = midpoint - center\n",
    "        # Project the midpoint coordinates onto the a/n coordinate system centered on\n",
    "        # the element centroid.\n",
    "        A = np.array([a, n]).T\n",
    "        Ainv = np.linalg.inv(A)\n",
    "        nodes_recenter = grid.ncoord[:2, nodes-1] - np.broadcast_to(center, (2,2)).T\n",
    "        nodes_xform = Ainv @ nodes_recenter\n",
    "        # The normal vector \"n\" points in the up-estuary direction. So the\n",
    "        # node coordinate transformed into the (a,n) vector space will have a\n",
    "        # positive n component if the node is on the upstream side.\n",
    "        upstream_nodes |= set(nodes[np.nonzero(nodes_xform[1] > 0)[0]])\n",
    "        downstream_nodes |= set(nodes[np.nonzero(nodes_xform[1] < 0)[0]])\n",
    "    # Find the other edge node of the last element\n",
    "    nodes = grid.nv[grid.nbe[:,s['ele'][-1]-1].nonzero()[0], s['ele'][-1]-1]\n",
    "    s.close()\n",
    "    # One of the edge nodes has been added to either upstream_nodes or\n",
    "    # downstream_nodes. Add the other one to the other set\n",
    "    if nodes[0] in upstream_nodes:\n",
    "        downstream_nodes.add(nodes[1])\n",
    "    elif nodes[0] in downstream_nodes:\n",
    "        upstream_nodes.add(nodes[1])\n",
    "    elif nodes[1] in upstream_nodes:\n",
    "        downstream_nodes.add(nodes[0])\n",
    "    elif nodes[1] in downstream_nodes:\n",
    "        upstream_nodes.add(nodes[0])\n",
    "    return (upstream_nodes, downstream_nodes)\n",
    "\n",
    "#with Pool() as pool:\n",
    "#    border_nodes = dict(zip(section_files.keys(),\n",
    "#                        pool.map(get_section_nodes, section_files.values())))\n",
    "border_nodes = {k: get_section_nodes(v) for k, v in section_files.items()}\n",
    "border_nodes"
   ]
  },
  {
   "cell_type": "markdown",
   "id": "65d2bb52-0e96-424a-8818-6b5047922e47",
   "metadata": {},
   "source": [
    "Get the grid's node adjacency, then remove all connections between upstream and\n",
    "downstream nodes on all sections. If calculations were done correctly, this will\n",
    "break up the graph created in the next cell into separate components, one of which\n",
    "will be our control volume"
   ]
  },
  {
   "cell_type": "code",
   "execution_count": 6,
   "id": "a00c46ce-5ebf-48c4-ae86-7a8dc5907a8f",
   "metadata": {},
   "outputs": [],
   "source": [
    "adj_dict = grid.node_neis()\n",
    "# \n",
    "for s, (upstream_nodes, downstream_nodes) in border_nodes.items():\n",
    "    for un in upstream_nodes:\n",
    "        adj_dict[un] -= downstream_nodes\n",
    "    for dn in downstream_nodes:\n",
    "        adj_dict[dn] -= upstream_nodes"
   ]
  },
  {
   "cell_type": "markdown",
   "id": "f324a16d-90bd-4f8c-8414-bf7585feb903",
   "metadata": {},
   "source": [
    "Any articulation points indicate a bug, as the grid shouldn't have any and our changes should disconnect entire regions, not leave them dangling by a single node"
   ]
  },
  {
   "cell_type": "code",
   "execution_count": 7,
   "id": "90e038b5-a307-4d60-9b27-9c15d0b3fdea",
   "metadata": {},
   "outputs": [],
   "source": [
    "g = nx.Graph(adj_dict)\n",
    "assert len(list(nx.articulation_points(g))) == 0"
   ]
  },
  {
   "cell_type": "markdown",
   "id": "39a00305-7568-420d-8177-38873994a22e",
   "metadata": {},
   "source": [
    "Use the graph to find which component is our control volume, based on all sections having nodes within it."
   ]
  },
  {
   "cell_type": "code",
   "execution_count": 8,
   "id": "86d9071c-2713-4ea1-938f-72b53e32741f",
   "metadata": {},
   "outputs": [
    {
     "data": {
      "text/plain": [
       "193"
      ]
     },
     "execution_count": 8,
     "metadata": {},
     "output_type": "execute_result"
    }
   ],
   "source": [
    "if len(border_nodes) == 1:\n",
    "    # Just pick an upstream node\n",
    "    node = list(upstream_nodes)[0]\n",
    "else:\n",
    "    first_section = next(iter(border_nodes))\n",
    "    candidates = [list(bns)[0] for bns in border_nodes[first_section]]\n",
    "    node = None\n",
    "    # We need to test every other section to handle sections that end at islands.\n",
    "    # It's then possible for mirror sides of two sections to connect to each other.\n",
    "    for other_section,nodes in border_nodes.items():\n",
    "        if other_section == first_section:\n",
    "            continue\n",
    "        tests = [list(bns)[0] for bns in border_nodes[other_section]]\n",
    "        for i in range(2):\n",
    "            if not nx.has_path(g, candidates[i], tests[0]) and not nx.has_path(\n",
    "                g, candidates[i], tests[1]):\n",
    "                node = candidates[i-1]\n",
    "                break\n",
    "        if node is not None:\n",
    "            break\n",
    "cv_nodes = nx.node_connected_component(g, node)\n",
    "cv_node_list = list(cv_nodes)\n",
    "len(cv_nodes)"
   ]
  },
  {
   "cell_type": "markdown",
   "id": "c224a8d1-e08f-4ea2-aed5-f92fa24ac199",
   "metadata": {},
   "source": [
    "# Get CV Volume Change\n",
    "\n",
    "Calculate all node volumes in the CV (TCE area times depth plus surface el), then differentiate with time"
   ]
  },
  {
   "cell_type": "code",
   "execution_count": 9,
   "id": "74fb7f58-9ffb-4646-b2bf-849640f6a406",
   "metadata": {},
   "outputs": [
    {
     "data": {
      "text/html": [
       "<div>\n",
       "<style scoped>\n",
       "    .dataframe tbody tr th:only-of-type {\n",
       "        vertical-align: middle;\n",
       "    }\n",
       "\n",
       "    .dataframe tbody tr th {\n",
       "        vertical-align: top;\n",
       "    }\n",
       "\n",
       "    .dataframe thead th {\n",
       "        text-align: right;\n",
       "    }\n",
       "</style>\n",
       "<table border=\"1\" class=\"dataframe\">\n",
       "  <thead>\n",
       "    <tr style=\"text-align: right;\">\n",
       "      <th></th>\n",
       "      <th>depth</th>\n",
       "      <th>geometry</th>\n",
       "    </tr>\n",
       "    <tr>\n",
       "      <th>node_id</th>\n",
       "      <th></th>\n",
       "      <th></th>\n",
       "    </tr>\n",
       "  </thead>\n",
       "  <tbody>\n",
       "    <tr>\n",
       "      <th>4369</th>\n",
       "      <td>45.183998</td>\n",
       "      <td>POLYGON ((515282.150 5333310.800, 514957.767 5...</td>\n",
       "    </tr>\n",
       "    <tr>\n",
       "      <th>4370</th>\n",
       "      <td>51.813999</td>\n",
       "      <td>POLYGON ((515087.250 5334738.350, 515039.410 5...</td>\n",
       "    </tr>\n",
       "    <tr>\n",
       "      <th>4371</th>\n",
       "      <td>51.813999</td>\n",
       "      <td>POLYGON ((515720.085 5336024.300, 515678.443 5...</td>\n",
       "    </tr>\n",
       "    <tr>\n",
       "      <th>4372</th>\n",
       "      <td>55.544998</td>\n",
       "      <td>POLYGON ((516396.973 5336859.567, 516347.240 5...</td>\n",
       "    </tr>\n",
       "    <tr>\n",
       "      <th>4373</th>\n",
       "      <td>60.431000</td>\n",
       "      <td>POLYGON ((517118.153 5338021.300, 517127.570 5...</td>\n",
       "    </tr>\n",
       "  </tbody>\n",
       "</table>\n",
       "</div>"
      ],
      "text/plain": [
       "             depth                                           geometry\n",
       "node_id                                                              \n",
       "4369     45.183998  POLYGON ((515282.150 5333310.800, 514957.767 5...\n",
       "4370     51.813999  POLYGON ((515087.250 5334738.350, 515039.410 5...\n",
       "4371     51.813999  POLYGON ((515720.085 5336024.300, 515678.443 5...\n",
       "4372     55.544998  POLYGON ((516396.973 5336859.567, 516347.240 5...\n",
       "4373     60.431000  POLYGON ((517118.153 5338021.300, 517127.570 5..."
      ]
     },
     "execution_count": 9,
     "metadata": {},
     "output_type": "execute_result"
    }
   ],
   "source": [
    "node_tces = gpd.read_file(node_shapefile)\n",
    "node_tces.set_index('node_id', inplace=True)\n",
    "node_tces.head()"
   ]
  },
  {
   "cell_type": "code",
   "execution_count": 10,
   "id": "e030948c-932f-4474-8224-7035135ea94b",
   "metadata": {},
   "outputs": [
    {
     "data": {
      "text/plain": [
       "(8784,)"
      ]
     },
     "metadata": {},
     "output_type": "display_data"
    },
    {
     "data": {
      "text/plain": [
       "array([-7.47567900e+07, -1.41029346e+08, -2.21116903e+08, ...,\n",
       "       -1.58368162e+08, -3.95425852e+07,  1.12052515e+08])"
      ]
     },
     "execution_count": 10,
     "metadata": {},
     "output_type": "execute_result"
    }
   ],
   "source": [
    "node_areas = node_tces.loc[cv_node_list, 'geometry'].area.to_numpy()\n",
    "# V neglects the constant depth addend to avoid rounding errors. It doesn't\n",
    "# affect the derivative\n",
    "V = (node_areas * hydro_output['zeta'][:,cv_node_list]).sum(axis=1)\n",
    "display(V.shape)\n",
    "V"
   ]
  },
  {
   "cell_type": "code",
   "execution_count": 11,
   "id": "aa63ca8f-bcad-42f7-ac2b-083655f85285",
   "metadata": {},
   "outputs": [
    {
     "data": {
      "text/plain": [
       "(8783,)"
      ]
     },
     "metadata": {},
     "output_type": "display_data"
    },
    {
     "data": {
      "text/plain": [
       "array([-18319.63354765, -17798.67247622,   1675.36615927, ...,\n",
       "        24145.56145137,  29053.70661307,  14004.9790252 ])"
      ]
     },
     "execution_count": 11,
     "metadata": {},
     "output_type": "execute_result"
    }
   ],
   "source": [
    "# This simple method is not accurate enough. It's a lagged difference\n",
    "# that introduces errors on a tidal frequency\n",
    "# See https://stackoverflow.com/a/18993405\n",
    "#dVdt = np.diff(V) / np.diff(hydro_output['time'][:])\n",
    "dVdt = ndimage.gaussian_filter1d(V, sigma=1, order=1)[1:] / np.diff(hydro_output['time'][:])\n",
    "display(dVdt.shape)\n",
    "dVdt"
   ]
  },
  {
   "cell_type": "markdown",
   "id": "aae7ebc3-7739-43a5-82c5-78177175c2fb",
   "metadata": {},
   "source": [
    "# Get Q_in and Q_out"
   ]
  },
  {
   "cell_type": "code",
   "execution_count": 12,
   "id": "15c7ec61-a8de-46e4-ace3-f97b7ed17655",
   "metadata": {
    "tags": []
   },
   "outputs": [
    {
     "data": {
      "text/plain": [
       "'q_in AdmInlet2'"
      ]
     },
     "metadata": {},
     "output_type": "display_data"
    },
    {
     "data": {
      "text/plain": [
       "masked_array(data=[0.0, 0.0, 168.04078447551754, ..., 350964.79450271954,\n",
       "                   531405.5789455485, 616519.1290129124],\n",
       "             mask=[False, False, False, ..., False, False, False],\n",
       "       fill_value=1e+20)"
      ]
     },
     "metadata": {},
     "output_type": "display_data"
    },
    {
     "data": {
      "text/plain": [
       "'q_out AdmInlet2'"
      ]
     },
     "metadata": {},
     "output_type": "display_data"
    },
    {
     "data": {
      "text/plain": [
       "masked_array(data=[-444361.68786166754, -253883.09198870047,\n",
       "                   -198206.12752924723, ..., 0.0, 0.0, 0.0],\n",
       "             mask=[False, False, False, ..., False, False, False],\n",
       "       fill_value=1e+20)"
      ]
     },
     "metadata": {},
     "output_type": "display_data"
    },
    {
     "data": {
      "text/plain": [
       "'q_in AdmInlet3'"
      ]
     },
     "metadata": {},
     "output_type": "display_data"
    },
    {
     "data": {
      "text/plain": [
       "masked_array(data=[365272.55294958956, 198916.64671164198,\n",
       "                   249493.49538823325, ..., 1363.542052063272,\n",
       "                   470.97976890602024, 4994.930950481397],\n",
       "             mask=[False, False, False, ..., False, False, False],\n",
       "       fill_value=1e+20)"
      ]
     },
     "metadata": {},
     "output_type": "display_data"
    },
    {
     "data": {
      "text/plain": [
       "'q_out AdmInlet3'"
      ]
     },
     "metadata": {},
     "output_type": "display_data"
    },
    {
     "data": {
      "text/plain": [
       "masked_array(data=[0.0, -1551.3622364720923, 0.0, ..., -261625.0990717439,\n",
       "                   -412735.1772248284, -489489.37638228503],\n",
       "             mask=[False, False, False, ..., False, False, False],\n",
       "       fill_value=1e+20)"
      ]
     },
     "metadata": {},
     "output_type": "display_data"
    },
    {
     "data": {
      "text/plain": [
       "'q_in HoodCanalEntrance'"
      ]
     },
     "metadata": {},
     "output_type": "display_data"
    },
    {
     "data": {
      "text/plain": [
       "masked_array(data=[52469.116752254005, 22827.052530275985,\n",
       "                   11563.429485116532, ..., 677.7775799435733, 0.0, 0.0],\n",
       "             mask=[False, False, False, ..., False, False, False],\n",
       "       fill_value=1e+20)"
      ]
     },
     "metadata": {},
     "output_type": "display_data"
    },
    {
     "data": {
      "text/plain": [
       "'q_out HoodCanalEntrance'"
      ]
     },
     "metadata": {},
     "output_type": "display_data"
    },
    {
     "data": {
      "text/plain": [
       "masked_array(data=[0.0, -2048.391608555184, -4246.943081315247, ...,\n",
       "                   -66525.3170264595, -80153.87427413042,\n",
       "                   -87141.49025662769],\n",
       "             mask=[False, False, False, ..., False, False, False],\n",
       "       fill_value=1e+20)"
      ]
     },
     "metadata": {},
     "output_type": "display_data"
    }
   ],
   "source": [
    "q_in = {}\n",
    "q_out = {}\n",
    "for s, ds in section_extractions.items():\n",
    "    upstream_nodes, downstream_nodes = border_nodes[s]\n",
    "    # Figure out if the control volume is on the upstream or downstream side.\n",
    "    # This will determine the direction of the transport variable relative to\n",
    "    # the CV.\n",
    "    test_node = list(upstream_nodes)[0]\n",
    "    cv_node = list(cv_nodes)[-1]\n",
    "    direction = 1 if nx.has_path(g, cv_node, test_node) else -1\n",
    "    # shape becomes (s_z, xi_sect, time)\n",
    "    q = np.moveaxis(ds['q'][:], 0, 2)\n",
    "    # shape becomes (xi_sect, time)\n",
    "    tide_adj = (1 + ds['zeta'][:] / ds['h'][:]).T\n",
    "    q_in[s] = (np.where(q * direction > 0, q, 0) * tide_adj * direction).sum(axis=(0,1))\n",
    "    q_out[s] = (np.where(q * direction < 0, q, 0) * tide_adj * direction).sum(axis=(0,1))\n",
    "    display(f'q_in {s}', q_in[s])\n",
    "    display(f'q_out {s}', q_out[s])"
   ]
  },
  {
   "cell_type": "markdown",
   "id": "1d326714-9806-4b06-a067-03b617ece5e2",
   "metadata": {},
   "source": [
    "# Get River Discharges into CV\n",
    "\n",
    "Rivers discharge into nodes that are listed in `cv_nodes`. Discharges must be interpolated to the output frequency of the model."
   ]
  },
  {
   "cell_type": "code",
   "execution_count": 13,
   "id": "efef8773-4269-4948-85bc-965469fc46a8",
   "metadata": {},
   "outputs": [
    {
     "data": {
      "text/plain": [
       "<class 'netCDF4._netCDF4.Dataset'>\n",
       "root group (NETCDF4 data model, file format HDF5):\n",
       "    inflow_type: node\n",
       "    point_st_type: calculated\n",
       "    dimensions(sizes): time(365), node(201), siglay(10)\n",
       "    variables(dimensions): float32 time(time), int32 node(node), float32 vqdist(node, siglay), float32 discharge(time, node), float32 temp(time, node), float32 salt(time, node)\n",
       "    groups: "
      ]
     },
     "execution_count": 13,
     "metadata": {},
     "output_type": "execute_result"
    }
   ],
   "source": [
    "rivers = Dataset(rivers_cdf)\n",
    "rivers"
   ]
  },
  {
   "cell_type": "code",
   "execution_count": 14,
   "id": "b1ce1e6c-4798-4a52-849b-0075ef65fae4",
   "metadata": {},
   "outputs": [
    {
     "data": {
      "text/plain": [
       "{6991}"
      ]
     },
     "execution_count": 14,
     "metadata": {},
     "output_type": "execute_result"
    }
   ],
   "source": [
    "rivers_in_cv = set(rivers['node'][:]) & cv_nodes\n",
    "rivers_in_cv"
   ]
  },
  {
   "cell_type": "code",
   "execution_count": 15,
   "id": "892a7d15-cf02-481e-a013-a964608b8ca8",
   "metadata": {},
   "outputs": [
    {
     "data": {
      "text/plain": [
       "(365,)"
      ]
     },
     "metadata": {},
     "output_type": "display_data"
    }
   ],
   "source": [
    "if len(rivers_in_cv) == 0:\n",
    "    river_qs = np.zeros_like(rivers['time'][:])\n",
    "else:\n",
    "    rivers_idxs = np.where(np.isin(np.ma.getdata(rivers['node'][:]),\n",
    "                                   list(rivers_in_cv)))[0]\n",
    "    river_qs = rivers['discharge'][:,rivers_idxs].sum(axis=1)\n",
    "display(river_qs.shape)"
   ]
  },
  {
   "cell_type": "code",
   "execution_count": 16,
   "id": "883c2f7f-86ee-42e5-97cf-b78cdcd03d2a",
   "metadata": {},
   "outputs": [
    {
     "name": "stdout",
     "output_type": "stream",
     "text": [
      "Need to remove 1.93 days of model output from end of run\n"
     ]
    }
   ],
   "source": [
    "# model output times are in seconds\n",
    "model_output_times = hydro_output['time'][:]\n",
    "# river times are in hours; convert them\n",
    "river_times = rivers['time'][:] * 3600\n",
    "# The model can potentially run past the boundary conditions, and if that\n",
    "# happened we need to truncate the output\n",
    "cut_indices = (model_output_times > river_times.max()).nonzero()[0]\n",
    "time_removed = (model_output_times[cut_indices.max()] -\n",
    "                model_output_times[cut_indices.min()]) / 87600\n",
    "print(f'Need to remove {time_removed:.2f} days of model output from end of run')\n",
    "model_output_times = model_output_times[:cut_indices.min()]\n",
    "rivers_interp = interp1d(river_times, river_qs)(model_output_times)"
   ]
  },
  {
   "cell_type": "markdown",
   "id": "f04227d6-504f-4e5b-96c1-4f8652a3fbed",
   "metadata": {},
   "source": [
    "# Perform Mass Balance and Plot Result\n",
    "\n",
    "First we need to line up all the output times. `dVdt` is missing time 0, and all of `dVdt`, `q_in`, `q_out` may be too long for `QR`"
   ]
  },
  {
   "cell_type": "code",
   "execution_count": 17,
   "id": "8e2d9aa5-3d3e-4156-bec6-e4f13e37d50d",
   "metadata": {},
   "outputs": [
    {
     "data": {
      "text/plain": [
       "'dVdt'"
      ]
     },
     "metadata": {},
     "output_type": "display_data"
    },
    {
     "data": {
      "text/plain": [
       "(8783,)"
      ]
     },
     "metadata": {},
     "output_type": "display_data"
    },
    {
     "data": {
      "text/plain": [
       "'Qin/out'"
      ]
     },
     "metadata": {},
     "output_type": "display_data"
    },
    {
     "data": {
      "text/plain": [
       "(8784,)"
      ]
     },
     "metadata": {},
     "output_type": "display_data"
    },
    {
     "data": {
      "text/plain": [
       "'QR'"
      ]
     },
     "metadata": {},
     "output_type": "display_data"
    },
    {
     "data": {
      "text/plain": [
       "(8736,)"
      ]
     },
     "metadata": {},
     "output_type": "display_data"
    }
   ],
   "source": [
    "display('dVdt', dVdt.shape)\n",
    "display('Qin/out', q_in[next(iter(section_names))].shape)\n",
    "display('QR', rivers_interp.shape)"
   ]
  },
  {
   "cell_type": "code",
   "execution_count": 18,
   "id": "362cb60f-f44e-41ef-ae7d-e9bead099bf4",
   "metadata": {},
   "outputs": [
    {
     "data": {
      "text/plain": [
       "'dVdt'"
      ]
     },
     "metadata": {},
     "output_type": "display_data"
    },
    {
     "data": {
      "text/plain": [
       "(8735,)"
      ]
     },
     "metadata": {},
     "output_type": "display_data"
    },
    {
     "data": {
      "text/plain": [
       "'Qin/out'"
      ]
     },
     "metadata": {},
     "output_type": "display_data"
    },
    {
     "data": {
      "text/plain": [
       "(8735,)"
      ]
     },
     "metadata": {},
     "output_type": "display_data"
    },
    {
     "data": {
      "text/plain": [
       "'QR'"
      ]
     },
     "metadata": {},
     "output_type": "display_data"
    },
    {
     "data": {
      "text/plain": [
       "(8735,)"
      ]
     },
     "metadata": {},
     "output_type": "display_data"
    }
   ],
   "source": [
    "dVdt = dVdt[:cut_indices.min()-1]\n",
    "display('dVdt', dVdt.shape)\n",
    "for s in section_names:\n",
    "    q_in[s] = q_in[s][1:cut_indices.min()]\n",
    "    q_out[s] = q_out[s][1:cut_indices.min()]\n",
    "display('Qin/out', q_in[next(iter(section_names))].shape)\n",
    "rivers_interp = rivers_interp[1:]\n",
    "display('QR', rivers_interp.shape)\n",
    "assert(len(rivers_interp) == len(q_in[next(iter(section_names))]) and\n",
    "       len(rivers_interp) == len(dVdt))"
   ]
  },
  {
   "cell_type": "code",
   "execution_count": 19,
   "id": "b631f8ef-0887-4f08-b4cf-af1647f09112",
   "metadata": {},
   "outputs": [
    {
     "name": "stdout",
     "output_type": "stream",
     "text": [
      "RMSE: 36.81 cms (489653.29% of mean Q_R)\n"
     ]
    },
    {
     "data": {
      "image/png": "[encoded data removed]",
      "text/plain": [
       "<Figure size 864x576 with 1 Axes>"
      ]
     },
     "metadata": {
      "needs_background": "light"
     },
     "output_type": "display_data"
    }
   ],
   "source": [
    "q_in_total = np.sum([q_in[s] for s in section_names], axis=0)\n",
    "q_out_total = np.sum([q_out[s] for s in section_names], axis=0)\n",
    "error = (-dVdt + q_in_total + q_out_total + rivers_interp)\n",
    "fig, ax = plt.subplots(figsize=(12,8))\n",
    "model_start_date = section_extractions[next(iter(section_names))].date_string0\n",
    "dates = pd.Timestamp(model_start_date) + pd.to_timedelta(model_output_times[1:], 's')\n",
    "ax.plot(dates, dVdt, label='$dV/dt$', alpha=0.5)\n",
    "#for s in section_names:\n",
    "#    l = ax.plot(dates, q_in[s], '--', label=f'{s} $Q_{{in}}$', alpha=0.5)\n",
    "#    ax.plot(dates, q_out[s], '-.', color=l[0].get_color(), label=f'{s} $Q_{{out}}$', alpha=0.5)\n",
    "ax.plot(dates, q_in_total, label='$Q_{in}$', alpha=0.5)\n",
    "ax.plot(dates, q_out_total, label='$Q_{out}$', alpha=0.5)\n",
    "ax.plot(dates, rivers_interp, label='$Q_R$', alpha=0.5)\n",
    "ax.plot(dates, error, label='error')\n",
    "ax.set(xbound=(dates[50], dates[250]))\n",
    "ax.legend()\n",
    "fig.autofmt_xdate()\n",
    "fig.suptitle(f'Volume Budget for {\", \".join(section_names)}')\n",
    "rmse = np.sqrt((error ** 2).sum())/len(error)\n",
    "error_per_qr = np.nan if rivers_interp.mean() == 0 else rmse / rivers_interp.mean()\n",
    "print(f'RMSE: {rmse:.2f} cms ({error_per_qr * 100:.2f}% of mean Q_R)')"
   ]
  },
  {
   "cell_type": "code",
   "execution_count": null,
   "id": "54458c7d-2160-4e85-bdd8-44107bb2ecc2",
   "metadata": {},
   "outputs": [],
   "source": []
  }
 ],
 "metadata": {
  "kernelspec": {
   "display_name": "Python [conda env:ssm-analysis]",
   "language": "python",
   "name": "conda-env-ssm-analysis-py"
  },
  "language_info": {
   "codemirror_mode": {
    "name": "ipython",
    "version": 3
   },
   "file_extension": ".py",
   "mimetype": "text/x-python",
   "name": "python",
   "nbconvert_exporter": "python",
   "pygments_lexer": "ipython3",
   "version": "3.8.12"
  }
 },
 "nbformat": 4,
 "nbformat_minor": 5
}

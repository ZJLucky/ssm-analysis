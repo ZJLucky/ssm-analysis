{
 "cells": [
  {
   "cell_type": "code",
   "execution_count": 1,
   "id": "564389e5-4f24-4964-a443-8212317301c6",
   "metadata": {},
   "outputs": [],
   "source": [
    "from netCDF4 import MFDataset\n",
    "import matplotlib.pyplot as plt\n",
    "import pandas as pd\n",
    "import numpy as np"
   ]
  },
  {
   "cell_type": "markdown",
   "id": "906101d2-1948-4145-8f6f-2907903fb701",
   "metadata": {},
   "source": [
    "Look at the first ten days of output of a FVCOMICM v4 run"
   ]
  },
  {
   "cell_type": "code",
   "execution_count": 2,
   "id": "4063890e-d994-438d-86d1-b79b7575c731",
   "metadata": {},
   "outputs": [
    {
     "data": {
      "text/plain": [
       "<class 'netCDF4._netCDF4.MFDataset'>\n",
       "root group (NETCDF3_CLASSIC data model, file format NETCDF3):\n",
       "    title: \n",
       "    institution: DOE/PNNL/MSL/BSRC\n",
       "    source: FVCOM-ICM 3.0\n",
       "    history: model started at: 20/10/2022   10:50\n",
       "    Conventions: CF-1.0\n",
       "    dimensions = ('scalar', 'node', 'nele', 'siglay', 'siglev', 'three', 'four', 'nine', 'time')\n",
       "    variables = ('nprocs', 'partition', 'Initial_Density', 'x', 'y', 'siglay', 'siglev', 'h', 'nv', 'time', 'iint', 'zeta', 'salinity', 'temp', 'depth', 'CCHL1', 'DOXG', 'LDOC', 'RDOC', 'LPOC', 'RPOC', 'B1', 'B2', 'NH4', 'NO3', 'LDON', 'RDON', 'LPON', 'RPON', 'PO4', 'TDIC', 'TALK', 'pH', 'pCO2', 'IAVG')\n",
       "    groups = ()"
      ]
     },
     "execution_count": 2,
     "metadata": {},
     "output_type": "execute_result"
    }
   ],
   "source": [
    "ds = MFDataset(\"/net/babaracus/home/benr/wqmodels/ssm/unionriver/wqm/1x/outputs/ssm_FVCOMICM_0000*.nc\")\n",
    "ds"
   ]
  },
  {
   "cell_type": "markdown",
   "id": "ede6617c-53ec-4508-80f1-03b1eb1d943a",
   "metadata": {
    "tags": []
   },
   "source": [
    "Light is in the IAVG variable"
   ]
  },
  {
   "cell_type": "code",
   "execution_count": 3,
   "id": "ed7265fc-7cac-43b6-a38e-7c967b08e871",
   "metadata": {
    "tags": []
   },
   "outputs": [
    {
     "data": {
      "text/plain": [
       "<class 'netCDF4._netCDF4._Variable'>\n",
       "float32 IAVG('time', 'siglay', 'node')\n",
       "    long_name: IAVG\n",
       "    standard_name: IAVG\n",
       "    units: Einstein meters-2 day-1\n",
       "    grid: fvcom_grid\n",
       "    type: data\n",
       "unlimited dimensions = ('time',)\n",
       "current size = (216, 10, 16012)"
      ]
     },
     "execution_count": 3,
     "metadata": {},
     "output_type": "execute_result"
    }
   ],
   "source": [
    "ds['IAVG']"
   ]
  },
  {
   "cell_type": "markdown",
   "id": "2ea32558-b9b7-4185-bda4-7c605e74b589",
   "metadata": {
    "tags": []
   },
   "source": [
    "Get the number of output times per day so we can construct a one-day moving average and avoid issues at night"
   ]
  },
  {
   "cell_type": "code",
   "execution_count": 4,
   "id": "6225a2c2-6cba-4b1e-9db7-5f3852f6b791",
   "metadata": {
    "tags": []
   },
   "outputs": [
    {
     "data": {
      "text/plain": [
       "4"
      ]
     },
     "execution_count": 4,
     "metadata": {},
     "output_type": "execute_result"
    }
   ],
   "source": [
    "times_per_day = int(86400 / (ds['time'][1] - ds['time'][0]))\n",
    "times_per_day"
   ]
  },
  {
   "cell_type": "markdown",
   "id": "8cd187d8-4234-4ea4-bf2a-b255d48ae198",
   "metadata": {},
   "source": [
    "Compute the moving average over `times_per_day` times, except at the beginning where a ramp-up is used"
   ]
  },
  {
   "cell_type": "code",
   "execution_count": 5,
   "id": "5fb8c94e-25ef-4884-93a5-017d88019237",
   "metadata": {},
   "outputs": [
    {
     "data": {
      "text/plain": [
       "(216, 10, 16012)"
      ]
     },
     "execution_count": 5,
     "metadata": {},
     "output_type": "execute_result"
    }
   ],
   "source": [
    "cs = ds['IAVG'][:].cumsum(axis=0, dtype=float)\n",
    "cs[times_per_day:] -= cs[:-times_per_day]\n",
    "avglight = np.zeros_like(cs)\n",
    "for n in range(1, times_per_day):\n",
    "    avglight[n-1,:] = cs[n - 1,:] / n\n",
    "avglight[times_per_day - 1:,:] = cs[times_per_day - 1:,:] / times_per_day\n",
    "avglight.shape"
   ]
  },
  {
   "cell_type": "markdown",
   "id": "dffb6719-0987-467d-a0b9-5cdb7bbe5d3d",
   "metadata": {},
   "source": [
    "Plot the surface light for a single node to ensure the smoothing worked"
   ]
  },
  {
   "cell_type": "code",
   "execution_count": 6,
   "id": "3b2bcf2c-6f88-4edc-b777-b6b9df8702d9",
   "metadata": {},
   "outputs": [
    {
     "data": {
      "image/png": "[encoded data removed]",
      "text/plain": [
       "<Figure size 432x288 with 1 Axes>"
      ]
     },
     "metadata": {
      "needs_background": "light"
     },
     "output_type": "display_data"
    }
   ],
   "source": [
    "times = pd.Timestamp('2014-01-01') + pd.to_timedelta(ds['time'][:], 's')\n",
    "fig, ax = plt.subplots()\n",
    "ax.bar(times, ds['IAVG'][:,0,1200], alpha=0.4, label='Light')\n",
    "ax.plot(times, avglight[:,0,1200], color='tab:orange', label='1-day smoothing')\n",
    "ax.set(ylabel=ds['IAVG'].units, title=\"Smoothed surface light for one node\")\n",
    "ax.legend()\n",
    "fig.autofmt_xdate()"
   ]
  },
  {
   "cell_type": "markdown",
   "id": "cb5295eb-1a63-43b5-8e05-5a861d68829c",
   "metadata": {},
   "source": [
    "Now construct a mask for all the locations/depths/times that fall below the photic zone (1% of surface light)\n",
    "\n",
    "The == 0 case is needed to deal with the possibility that there is no light at the surface"
   ]
  },
  {
   "cell_type": "code",
   "execution_count": 7,
   "id": "f0185411-77e2-4e99-a4ce-4572cd38efe0",
   "metadata": {},
   "outputs": [
    {
     "data": {
      "text/plain": [
       "(216, 10, 16012)"
      ]
     },
     "metadata": {},
     "output_type": "display_data"
    },
    {
     "data": {
      "text/plain": [
       "array([[ True,  True,  True,  True,  True,  True,  True,  True,  True,\n",
       "         True],\n",
       "       [False, False, False, False, False, False, False,  True,  True,\n",
       "         True],\n",
       "       [False, False, False, False, False, False, False,  True,  True,\n",
       "         True],\n",
       "       [False, False, False, False, False, False, False,  True,  True,\n",
       "         True],\n",
       "       [False, False, False, False, False, False, False,  True,  True,\n",
       "         True]])"
      ]
     },
     "metadata": {},
     "output_type": "display_data"
    }
   ],
   "source": [
    "mask = (avglight[:] == 0) | (avglight[:,:,:] < avglight[:,[0],:] * 0.01)\n",
    "display(mask.shape)\n",
    "with np.printoptions(threshold=np.inf):\n",
    "    display(mask[:5,:,12000])"
   ]
  },
  {
   "cell_type": "markdown",
   "id": "90f071e5-2aae-4731-919d-7de347a85e22",
   "metadata": {},
   "source": [
    "To extract a state variable within the photic zone, construct a masked array of that variable with the above mask"
   ]
  },
  {
   "cell_type": "code",
   "execution_count": 8,
   "id": "b879fa6b-1629-4f12-9398-4e4b5884358c",
   "metadata": {},
   "outputs": [
    {
     "data": {
      "text/plain": [
       "masked_array(\n",
       "  data=[[--, --, --, --, --, --, --, --, --, --],\n",
       "        [0.4176468253135681, 0.417702317237854, 0.41775181889533997,\n",
       "         0.4177953898906708, 0.4178256094455719, 0.4178629517555237,\n",
       "         0.4178995192050934, --, --, --],\n",
       "        [0.40104198455810547, 0.4011945426464081, 0.40181076526641846,\n",
       "         0.401801198720932, 0.4017876386642456, 0.40175938606262207,\n",
       "         0.40172237157821655, --, --, --],\n",
       "        [0.4075223505496979, 0.4075224697589874, 0.4075225591659546,\n",
       "         0.40752261877059937, 0.40752264857292175, 0.40752270817756653,\n",
       "         0.40752267837524414, --, --, --],\n",
       "        [0.4006417691707611, 0.40064549446105957, 0.40067049860954285,\n",
       "         0.40116965770721436, 0.402749240398407, 0.4035615026950836,\n",
       "         0.4036708474159241, --, --, --]],\n",
       "  mask=[[ True,  True,  True,  True,  True,  True,  True,  True,  True,\n",
       "          True],\n",
       "        [False, False, False, False, False, False, False,  True,  True,\n",
       "          True],\n",
       "        [False, False, False, False, False, False, False,  True,  True,\n",
       "          True],\n",
       "        [False, False, False, False, False, False, False,  True,  True,\n",
       "          True],\n",
       "        [False, False, False, False, False, False, False,  True,  True,\n",
       "          True]],\n",
       "  fill_value=1e+20,\n",
       "  dtype=float32)"
      ]
     },
     "metadata": {},
     "output_type": "display_data"
    }
   ],
   "source": [
    "photic_nitrate = np.ma.masked_array(ds['NO3'][:], mask=mask)\n",
    "with np.printoptions(precision=4, threshold=np.inf):\n",
    "    display(photic_nitrate[:5,:,12000])"
   ]
  },
  {
   "cell_type": "markdown",
   "id": "662c8330-878e-493c-a0ce-f28b1d71c64e",
   "metadata": {},
   "source": [
    "Now we can take the depth-wise mean of just the photic zone"
   ]
  },
  {
   "cell_type": "code",
   "execution_count": 9,
   "id": "2e360c8f-178b-4b11-ae1c-8543f8d0a83f",
   "metadata": {},
   "outputs": [
    {
     "data": {
      "text/plain": [
       "(216, 16012)"
      ]
     },
     "metadata": {},
     "output_type": "display_data"
    },
    {
     "data": {
      "text/plain": [
       "masked_array(data=[--, 0.4177834987640381, 0.40158826964242117,\n",
       "                   0.4075225761958531, 0.40187273706708637,\n",
       "                   0.4036533534526825, 0.4018847346305847,\n",
       "                   0.405440092086792, 0.4041411280632019,\n",
       "                   0.4061475098133087, 0.402864545583725,\n",
       "                   0.40089303255081177, 0.4049007296562195,\n",
       "                   0.40708855220249723, 0.4027836322784424,\n",
       "                   0.40063568523951937, 0.4059579372406006,\n",
       "                   0.40804338455200195, 0.4066291196005685,\n",
       "                   0.40486458369663786],\n",
       "             mask=[ True, False, False, False, False, False, False, False,\n",
       "                   False, False, False, False, False, False, False, False,\n",
       "                   False, False, False, False],\n",
       "       fill_value=1e+20)"
      ]
     },
     "execution_count": 9,
     "metadata": {},
     "output_type": "execute_result"
    }
   ],
   "source": [
    "mean_photic_nitrate = photic_nitrate.mean(axis=1)\n",
    "display(mean_photic_nitrate.shape)\n",
    "mean_photic_nitrate[:20,12000]"
   ]
  },
  {
   "cell_type": "code",
   "execution_count": null,
   "id": "fbc67f1a-3732-4f08-b942-dd7f2df74fb9",
   "metadata": {},
   "outputs": [],
   "source": []
  }
 ],
 "metadata": {
  "kernelspec": {
   "display_name": "Python [conda env:ssm-analysis]",
   "language": "python",
   "name": "conda-env-ssm-analysis-py"
  },
  "language_info": {
   "codemirror_mode": {
    "name": "ipython",
    "version": 3
   },
   "file_extension": ".py",
   "mimetype": "text/x-python",
   "name": "python",
   "nbconvert_exporter": "python",
   "pygments_lexer": "ipython3",
   "version": "3.8.12"
  }
 },
 "nbformat": 4,
 "nbformat_minor": 5
}

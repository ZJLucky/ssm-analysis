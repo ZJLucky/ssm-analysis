{
 "cells": [
  {
   "cell_type": "code",
   "execution_count": 1,
   "metadata": {},
   "outputs": [],
   "source": [
    "riv_file = \"/home/benr/wqmodels/ssm/hyd-test/model_input/ssm_riv.dat\"\n",
    "out_file = \"data/fvcom_riv_2014.nc\"\n",
    "\n",
    "import numpy as np\n",
    "from netCDF4 import Dataset"
   ]
  },
  {
   "cell_type": "code",
   "execution_count": 2,
   "metadata": {},
   "outputs": [
    {
     "name": "stdout",
     "output_type": "stream",
     "text": [
      "Times: (365,)\n",
      "Nodes: (201,)\n",
      "VQdist: (201, 10)\n",
      "Temps: (365, 201)\n"
     ]
    },
    {
     "data": {
      "text/plain": [
       "array([[3.73 , 3.73 , 5.939, ..., 4.5  , 4.5  , 4.5  ],\n",
       "       [3.73 , 3.73 , 5.939, ..., 4.6  , 4.6  , 4.6  ],\n",
       "       [3.73 , 3.73 , 5.939, ..., 4.6  , 4.6  , 4.6  ],\n",
       "       ...,\n",
       "       [0.05 , 0.05 , 6.784, ..., 7.   , 7.   , 7.   ],\n",
       "       [0.05 , 0.05 , 6.784, ..., 6.7  , 6.7  , 6.7  ],\n",
       "       [0.05 , 0.05 , 6.784, ..., 6.3  , 6.3  , 6.3  ]])"
      ]
     },
     "execution_count": 2,
     "metadata": {},
     "output_type": "execute_result"
    }
   ],
   "source": [
    "with open(riv_file) as f:\n",
    "    # See the FVCOM manual\n",
    "    inflow_type, point_st_type = np.loadtxt([next(f)], dtype=str, comments='!')\n",
    "    # The total number of discharge nodes\n",
    "    num_qs = int(next(f))\n",
    "    # All the node numbers with discharges\n",
    "    nodes = np.loadtxt([next(f) for l in range(num_qs)], comments='!', dtype=int)\n",
    "    # Depth distribution fractions into each node. Skipping the first (node count) column\n",
    "    vqdist = np.loadtxt([next(f) for l in range(num_qs)])[:,1:]\n",
    "\n",
    "    num_times = int(next(f))\n",
    "\n",
    "    # Initialize storage arrays\n",
    "    times = np.zeros(num_times)\n",
    "    qs = np.zeros((num_times, num_qs))\n",
    "    temps = np.zeros((num_times, num_qs))\n",
    "    salts = np.zeros((num_times, num_qs))\n",
    "\n",
    "    for t in range(num_times):\n",
    "        times[t] = float(next(f))\n",
    "        qs[t,:] = np.loadtxt([next(f)])\n",
    "        temps[t,:] = np.loadtxt([next(f)])\n",
    "        salts[t,:] = np.loadtxt([next(f)])\n",
    "\n",
    "print(\"Times:\", times.shape)\n",
    "print(\"Nodes:\", nodes.shape)\n",
    "print(\"VQdist:\", vqdist.shape)\n",
    "print(\"Temps:\", temps.shape)\n",
    "temps"
   ]
  },
  {
   "cell_type": "code",
   "execution_count": 3,
   "metadata": {},
   "outputs": [
    {
     "data": {
      "text/plain": [
       "<class 'netCDF4._netCDF4.Dataset'>\n",
       "root group (NETCDF4 data model, file format HDF5):\n",
       "    inflow_type: node\n",
       "    point_st_type: calculated\n",
       "    dimensions(sizes): time(365), node(201), siglay(10)\n",
       "    variables(dimensions): float32 time(time), int32 node(node), float32 vqdist(node, siglay), float32 discharge(time, node), float32 temp(time, node), float32 salt(time, node)\n",
       "    groups: "
      ]
     },
     "execution_count": 3,
     "metadata": {},
     "output_type": "execute_result"
    }
   ],
   "source": [
    "cdf = Dataset(out_file, \"w\")\n",
    "cdf.inflow_type = inflow_type\n",
    "cdf.point_st_type = point_st_type\n",
    "\n",
    "time_dim = cdf.createDimension(\"time\", len(times))\n",
    "node_dim = cdf.createDimension(\"node\", num_qs)\n",
    "siglay_dim = cdf.createDimension(\"siglay\", vqdist.shape[1])\n",
    "\n",
    "time_var = cdf.createVariable(\"time\", \"f4\", (\"time\",))\n",
    "time_var.unit = \"hours\"\n",
    "node_var = cdf.createVariable(\"node\", \"i4\", (\"node\",))\n",
    "vqdist_var = cdf.createVariable(\"vqdist\", \"f4\", (\"node\",\"siglay\"))\n",
    "q_var = cdf.createVariable(\"discharge\", \"f4\", (\"time\",\"node\"))\n",
    "temp_var = cdf.createVariable(\"temp\", \"f4\", (\"time\",\"node\"))\n",
    "salt_var = cdf.createVariable(\"salt\", \"f4\", (\"time\",\"node\"))\n",
    "\n",
    "cdf['time'][:] = times\n",
    "cdf['node'][:] = nodes\n",
    "cdf['vqdist'][:] = vqdist\n",
    "\n",
    "cdf['discharge'][:] = qs\n",
    "cdf['temp'][:] = temps\n",
    "cdf['salt'][:] = salts\n",
    "\n",
    "cdf"
   ]
  },
  {
   "cell_type": "code",
   "execution_count": 4,
   "metadata": {},
   "outputs": [],
   "source": [
    "cdf.close()"
   ]
  },
  {
   "cell_type": "code",
   "execution_count": null,
   "metadata": {},
   "outputs": [],
   "source": []
  }
 ],
 "metadata": {
  "kernelspec": {
   "display_name": "Python 3",
   "language": "python",
   "name": "python3"
  },
  "language_info": {
   "codemirror_mode": {
    "name": "ipython",
    "version": 3
   },
   "file_extension": ".py",
   "mimetype": "text/x-python",
   "name": "python",
   "nbconvert_exporter": "python",
   "pygments_lexer": "ipython3",
   "version": "3.8.10"
  }
 },
 "nbformat": 4,
 "nbformat_minor": 4
}

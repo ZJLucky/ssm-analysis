{
 "cells": [
  {
   "cell_type": "code",
   "execution_count": 1,
   "metadata": {},
   "outputs": [],
   "source": [
    "tsobc_file = \"/home/benr/wqmodels/ssm/hyd-test/model_input/ssm_tsobc.dat\"\n",
    "out_file = \"data/fvcom_tsobc_2014.nc\"\n",
    "\n",
    "import numpy as np\n",
    "from netCDF4 import Dataset"
   ]
  },
  {
   "cell_type": "code",
   "execution_count": 2,
   "metadata": {},
   "outputs": [
    {
     "data": {
      "text/plain": [
       "(14, 87, 10)"
      ]
     },
     "execution_count": 2,
     "metadata": {},
     "output_type": "execute_result"
    }
   ],
   "source": [
    "time_lines = []\n",
    "temp_data = []\n",
    "salt_data = []\n",
    "with open(tsobc_file) as f:\n",
    "    t_line = next(f)\n",
    "    while True:\n",
    "        time_lines.append(t_line)\n",
    "        n0, nlay, *layers = np.loadtxt([next(f)], dtype=int)\n",
    "        temp_data.append(np.loadtxt([next(f) for l in range(n0)]))\n",
    "        salt_data.append(np.loadtxt([next(f) for l in range(n0)]))\n",
    "        # Look for the next time index, which might fail if we're at the end-of-file\n",
    "        try:\n",
    "            t_line = next(f)\n",
    "        except StopIteration:\n",
    "            break\n",
    "\n",
    "times = np.loadtxt(time_lines, comments='!')\n",
    "temp_data = np.array(temp_data)\n",
    "# Extract and remove node numbers\n",
    "nodes = temp_data[0,:,0]\n",
    "temp_data = temp_data[:,:,1:]\n",
    "salt_data = np.array(salt_data)[:,:,1:]\n",
    "\n",
    "temp_data.shape"
   ]
  },
  {
   "cell_type": "code",
   "execution_count": 3,
   "metadata": {},
   "outputs": [
    {
     "data": {
      "text/plain": [
       "<class 'netCDF4._netCDF4.Dataset'>\n",
       "root group (NETCDF4 data model, file format HDF5):\n",
       "    comment: 200 m depth obc\n",
       "    dimensions(sizes): time(14), node(87), siglay(10)\n",
       "    variables(dimensions): float32 time(time), int32 node(node), float32 temp(time, node, siglay), float32 salt(time, node, siglay)\n",
       "    groups: "
      ]
     },
     "execution_count": 3,
     "metadata": {},
     "output_type": "execute_result"
    }
   ],
   "source": [
    "cdf = Dataset(out_file, \"w\")\n",
    "# Extract the first comment line from time_lines and use as the file title\n",
    "comment = time_lines[0].strip().split('!')\n",
    "if len(comment) > 1:\n",
    "    cdf.comment = comment[1]\n",
    "time_dim = cdf.createDimension(\"time\", len(times))\n",
    "node_dim = cdf.createDimension(\"node\", n0)\n",
    "siglay_dim = cdf.createDimension(\"siglay\", nlay)\n",
    "\n",
    "time_var = cdf.createVariable(\"time\", \"f4\", (\"time\",))\n",
    "time_var.unit = \"days\"\n",
    "node_var = cdf.createVariable(\"node\", \"i4\", (\"node\",))\n",
    "temp_var = cdf.createVariable(\"temp\", \"f4\", (\"time\",\"node\",\"siglay\"))\n",
    "salt_var = cdf.createVariable(\"salt\", \"f4\", (\"time\",\"node\",\"siglay\"))\n",
    "\n",
    "cdf['time'][:] = times\n",
    "cdf['node'][:] = nodes\n",
    "cdf['temp'][:] = temp_data\n",
    "cdf['salt'][:] = salt_data\n",
    "\n",
    "cdf"
   ]
  },
  {
   "cell_type": "code",
   "execution_count": 4,
   "metadata": {},
   "outputs": [],
   "source": [
    "cdf.close()"
   ]
  },
  {
   "cell_type": "code",
   "execution_count": null,
   "metadata": {},
   "outputs": [],
   "source": []
  }
 ],
 "metadata": {
  "kernelspec": {
   "display_name": "Python 3",
   "language": "python",
   "name": "python3"
  },
  "language_info": {
   "codemirror_mode": {
    "name": "ipython",
    "version": 3
   },
   "file_extension": ".py",
   "mimetype": "text/x-python",
   "name": "python",
   "nbconvert_exporter": "python",
   "pygments_lexer": "ipython3",
   "version": "3.8.10"
  }
 },
 "nbformat": 4,
 "nbformat_minor": 4
}

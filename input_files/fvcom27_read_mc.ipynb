{
 "cells": [
  {
   "cell_type": "code",
   "execution_count": 1,
   "metadata": {},
   "outputs": [],
   "source": [
    "mc_file = \"/home/benr/wqmodels/ssm/hyd-test/model_input/ssm_mc.dat\"\n",
    "out_file = \"data/fvcom_mc_2014.xlsx\"\n",
    "\n",
    "import itertools\n",
    "import numpy as np\n",
    "import pandas as pd"
   ]
  },
  {
   "cell_type": "code",
   "execution_count": 2,
   "metadata": {},
   "outputs": [
    {
     "data": {
      "text/html": [
       "<div>\n",
       "<style scoped>\n",
       "    .dataframe tbody tr th:only-of-type {\n",
       "        vertical-align: middle;\n",
       "    }\n",
       "\n",
       "    .dataframe tbody tr th {\n",
       "        vertical-align: top;\n",
       "    }\n",
       "\n",
       "    .dataframe thead th {\n",
       "        text-align: right;\n",
       "    }\n",
       "</style>\n",
       "<table border=\"1\" class=\"dataframe\">\n",
       "  <thead>\n",
       "    <tr style=\"text-align: right;\">\n",
       "      <th></th>\n",
       "      <th>QPREC</th>\n",
       "      <th>QEVAP</th>\n",
       "      <th>WDS</th>\n",
       "      <th>WDD</th>\n",
       "      <th>HFLUX</th>\n",
       "      <th>HSHORT</th>\n",
       "    </tr>\n",
       "    <tr>\n",
       "      <th>TIME</th>\n",
       "      <th></th>\n",
       "      <th></th>\n",
       "      <th></th>\n",
       "      <th></th>\n",
       "      <th></th>\n",
       "      <th></th>\n",
       "    </tr>\n",
       "  </thead>\n",
       "  <tbody>\n",
       "    <tr>\n",
       "      <th>0.0</th>\n",
       "      <td>0.0</td>\n",
       "      <td>0.0</td>\n",
       "      <td>1.68</td>\n",
       "      <td>146.36</td>\n",
       "      <td>-74.02</td>\n",
       "      <td>0.0</td>\n",
       "    </tr>\n",
       "    <tr>\n",
       "      <th>1.0</th>\n",
       "      <td>0.0</td>\n",
       "      <td>0.0</td>\n",
       "      <td>3.46</td>\n",
       "      <td>128.71</td>\n",
       "      <td>-89.46</td>\n",
       "      <td>0.0</td>\n",
       "    </tr>\n",
       "    <tr>\n",
       "      <th>2.0</th>\n",
       "      <td>0.0</td>\n",
       "      <td>0.0</td>\n",
       "      <td>3.66</td>\n",
       "      <td>135.64</td>\n",
       "      <td>-90.83</td>\n",
       "      <td>0.0</td>\n",
       "    </tr>\n",
       "    <tr>\n",
       "      <th>3.0</th>\n",
       "      <td>0.0</td>\n",
       "      <td>0.0</td>\n",
       "      <td>3.33</td>\n",
       "      <td>128.34</td>\n",
       "      <td>-97.53</td>\n",
       "      <td>0.0</td>\n",
       "    </tr>\n",
       "    <tr>\n",
       "      <th>4.0</th>\n",
       "      <td>0.0</td>\n",
       "      <td>0.0</td>\n",
       "      <td>3.23</td>\n",
       "      <td>96.31</td>\n",
       "      <td>-103.82</td>\n",
       "      <td>0.0</td>\n",
       "    </tr>\n",
       "  </tbody>\n",
       "</table>\n",
       "</div>"
      ],
      "text/plain": [
       "      QPREC  QEVAP   WDS     WDD   HFLUX  HSHORT\n",
       "TIME                                            \n",
       "0.0     0.0    0.0  1.68  146.36  -74.02     0.0\n",
       "1.0     0.0    0.0  3.46  128.71  -89.46     0.0\n",
       "2.0     0.0    0.0  3.66  135.64  -90.83     0.0\n",
       "3.0     0.0    0.0  3.33  128.34  -97.53     0.0\n",
       "4.0     0.0    0.0  3.23   96.31 -103.82     0.0"
      ]
     },
     "execution_count": 2,
     "metadata": {},
     "output_type": "execute_result"
    }
   ],
   "source": [
    "time_lines = []\n",
    "data_lines = []\n",
    "# See https://stackoverflow.com/a/1657385/413862\n",
    "with open(mc_file) as f:\n",
    "    # Skip the header\n",
    "    header = next(f)    \n",
    "    for time,mdatum in itertools.zip_longest(*[f]*2):\n",
    "        time_lines.append(time)\n",
    "        data_lines.append(mdatum)\n",
    "\n",
    "times = np.loadtxt(time_lines)\n",
    "data = np.loadtxt(data_lines)\n",
    "\n",
    "# Assemble a DataFrame. See the FVCOM manual for meaning of the columns\n",
    "df = pd.DataFrame(data, index=times, columns=(\"QPREC\",\"QEVAP\",\"WDS\",\"WDD\",\"HFLUX\",\"HSHORT\"))\n",
    "df.index.name = \"TIME\"\n",
    "df.head()"
   ]
  },
  {
   "cell_type": "code",
   "execution_count": 3,
   "metadata": {},
   "outputs": [],
   "source": [
    "df.to_excel(out_file)"
   ]
  },
  {
   "cell_type": "code",
   "execution_count": null,
   "metadata": {},
   "outputs": [],
   "source": []
  }
 ],
 "metadata": {
  "kernelspec": {
   "display_name": "Python 3",
   "language": "python",
   "name": "python3"
  },
  "language_info": {
   "codemirror_mode": {
    "name": "ipython",
    "version": 3
   },
   "file_extension": ".py",
   "mimetype": "text/x-python",
   "name": "python",
   "nbconvert_exporter": "python",
   "pygments_lexer": "ipython3",
   "version": "3.8.10"
  }
 },
 "nbformat": 4,
 "nbformat_minor": 4
}

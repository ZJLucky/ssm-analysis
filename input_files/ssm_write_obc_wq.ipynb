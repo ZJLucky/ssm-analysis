{
 "cells": [
  {
   "cell_type": "code",
   "execution_count": 1,
   "metadata": {},
   "outputs": [],
   "source": [
    "in_file = \"data/ssm_obc_2014.nc\"\n",
    "comment = \"Auto-generated from BDR's ssm-analysis notebooks\"\n",
    "out_file = \"data/2014/ssm_obc_wq.dat\"\n",
    "\n",
    "import numpy as np\n",
    "from netCDF4 import Dataset"
   ]
  },
  {
   "cell_type": "code",
   "execution_count": 2,
   "metadata": {},
   "outputs": [
    {
     "data": {
      "text/plain": [
       "<class 'netCDF4._netCDF4.Dataset'>\n",
       "root group (NETCDF4 data model, file format HDF5):\n",
       "    dimensions(sizes): time(14), node(87), siglay(10)\n",
       "    variables(dimensions): float32 time(time), int32 node(node), float32 temp(time, node, siglay), float32 salt(time, node, siglay), float32 tss(time, node, siglay), float32 alg1(time, node, siglay), float32 alg2(time, node, siglay), float32 alg3(time, node, siglay), float32 zoo1(time, node, siglay), float32 zoo2(time, node, siglay), float32 ldoc(time, node, siglay), float32 rdoc(time, node, siglay), float32 lpoc(time, node, siglay), float32 rpoc(time, node, siglay), float32 nh4(time, node, siglay), float32 no32(time, node, siglay), float32 urea(time, node, siglay), float32 ldon(time, node, siglay), float32 rdon(time, node, siglay), float32 lpon(time, node, siglay), float32 rpon(time, node, siglay), float32 po4(time, node, siglay), float32 ldop(time, node, siglay), float32 rdop(time, node, siglay), float32 lpop(time, node, siglay), float32 rpop(time, node, siglay), float32 pip(time, node, siglay), float32 cod(time, node, siglay), float32 doxg(time, node, siglay), float32 psi(time, node, siglay), float32 dsi(time, node, siglay), float32 alg1p(time, node, siglay), float32 alg2p(time, node, siglay), float32 alg3p(time, node, siglay), float32 dic(time, node, siglay), float32 talk(time, node, siglay)\n",
       "    groups: "
      ]
     },
     "execution_count": 2,
     "metadata": {},
     "output_type": "execute_result"
    }
   ],
   "source": [
    "cdf = Dataset(in_file)\n",
    "cdf"
   ]
  },
  {
   "cell_type": "code",
   "execution_count": 4,
   "metadata": {},
   "outputs": [],
   "source": [
    "siglayers = cdf.dimensions['siglay'].size\n",
    "nodes = cdf.dimensions['node'].size\n",
    "\n",
    "with open(out_file,\"w\") as f:\n",
    "    print(\"{:10d} ! {}\".format(nodes, comment), file=f)\n",
    "    for n in range(nodes):\n",
    "        print(\"{:10d} {:10d}\".format(n+1, cdf['node'][n]), file=f)\n",
    "\n",
    "    # The water quality variables are the same as ssm_read_pnt except discharge\n",
    "    statevars = ('temp', 'salt', 'tss',  'alg1', 'alg2', 'alg3', 'zoo1',\n",
    "                 'zoo2', 'ldoc', 'rdoc', 'lpoc', 'rpoc', 'nh4',  'no32',\n",
    "                 'urea', 'ldon', 'rdon', 'lpon', 'rpon', 'po4',  'ldop',\n",
    "                 'rdop', 'lpop', 'rpop', 'pip',  'cod',  'doxg', 'psi',\n",
    "                 'dsi',  'alg1p','alg2p','alg3p','dic',  'talk')\n",
    "\n",
    "    formatstr = \"{:10d} \" + \" \".join([\"{:10.4f}\" for l in range(siglayers)])\n",
    "    for t in range(cdf.dimensions['time'].size):\n",
    "        print(\"{:10.4f}\".format(cdf['time'][t]), file=f)\n",
    "        \n",
    "        for i,v in enumerate(statevars):\n",
    "            for n in range(nodes):\n",
    "                print(formatstr.format(*[i+1] + list(cdf[v][t,n,:])), file=f)"
   ]
  },
  {
   "cell_type": "code",
   "execution_count": null,
   "metadata": {},
   "outputs": [],
   "source": []
  }
 ],
 "metadata": {
  "kernelspec": {
   "display_name": "Python 3",
   "language": "python",
   "name": "python3"
  },
  "language_info": {
   "codemirror_mode": {
    "name": "ipython",
    "version": 3
   },
   "file_extension": ".py",
   "mimetype": "text/x-python",
   "name": "python",
   "nbconvert_exporter": "python",
   "pygments_lexer": "ipython3",
   "version": "3.8.10"
  }
 },
 "nbformat": 4,
 "nbformat_minor": 4
}

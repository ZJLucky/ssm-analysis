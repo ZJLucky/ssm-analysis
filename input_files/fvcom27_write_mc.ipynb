{
 "cells": [
  {
   "cell_type": "code",
   "execution_count": 1,
   "metadata": {},
   "outputs": [],
   "source": [
    "in_file = \"data/fvcom_mc_2014.xlsx\"\n",
    "comment = \"Time Variable Meteorological Data --- Triple Junction !ssm_mc_2014_0.65alb\"\n",
    "out_file = \"data/2014/ssm_mc.dat\"\n",
    "\n",
    "import pandas as pd"
   ]
  },
  {
   "cell_type": "code",
   "execution_count": 2,
   "metadata": {},
   "outputs": [
    {
     "data": {
      "text/html": [
       "<div>\n",
       "<style scoped>\n",
       "    .dataframe tbody tr th:only-of-type {\n",
       "        vertical-align: middle;\n",
       "    }\n",
       "\n",
       "    .dataframe tbody tr th {\n",
       "        vertical-align: top;\n",
       "    }\n",
       "\n",
       "    .dataframe thead th {\n",
       "        text-align: right;\n",
       "    }\n",
       "</style>\n",
       "<table border=\"1\" class=\"dataframe\">\n",
       "  <thead>\n",
       "    <tr style=\"text-align: right;\">\n",
       "      <th></th>\n",
       "      <th>QPREC</th>\n",
       "      <th>QEVAP</th>\n",
       "      <th>WDS</th>\n",
       "      <th>WDD</th>\n",
       "      <th>HFLUX</th>\n",
       "      <th>HSHORT</th>\n",
       "    </tr>\n",
       "    <tr>\n",
       "      <th>TIME</th>\n",
       "      <th></th>\n",
       "      <th></th>\n",
       "      <th></th>\n",
       "      <th></th>\n",
       "      <th></th>\n",
       "      <th></th>\n",
       "    </tr>\n",
       "  </thead>\n",
       "  <tbody>\n",
       "    <tr>\n",
       "      <th>0</th>\n",
       "      <td>0</td>\n",
       "      <td>0</td>\n",
       "      <td>1.68</td>\n",
       "      <td>146.36</td>\n",
       "      <td>-74.02</td>\n",
       "      <td>0.0</td>\n",
       "    </tr>\n",
       "    <tr>\n",
       "      <th>1</th>\n",
       "      <td>0</td>\n",
       "      <td>0</td>\n",
       "      <td>3.46</td>\n",
       "      <td>128.71</td>\n",
       "      <td>-89.46</td>\n",
       "      <td>0.0</td>\n",
       "    </tr>\n",
       "    <tr>\n",
       "      <th>2</th>\n",
       "      <td>0</td>\n",
       "      <td>0</td>\n",
       "      <td>3.66</td>\n",
       "      <td>135.64</td>\n",
       "      <td>-90.83</td>\n",
       "      <td>0.0</td>\n",
       "    </tr>\n",
       "    <tr>\n",
       "      <th>3</th>\n",
       "      <td>0</td>\n",
       "      <td>0</td>\n",
       "      <td>3.33</td>\n",
       "      <td>128.34</td>\n",
       "      <td>-97.53</td>\n",
       "      <td>0.0</td>\n",
       "    </tr>\n",
       "    <tr>\n",
       "      <th>4</th>\n",
       "      <td>0</td>\n",
       "      <td>0</td>\n",
       "      <td>3.23</td>\n",
       "      <td>96.31</td>\n",
       "      <td>-103.82</td>\n",
       "      <td>0.0</td>\n",
       "    </tr>\n",
       "  </tbody>\n",
       "</table>\n",
       "</div>"
      ],
      "text/plain": [
       "      QPREC  QEVAP   WDS     WDD   HFLUX  HSHORT\n",
       "TIME                                            \n",
       "0         0      0  1.68  146.36  -74.02     0.0\n",
       "1         0      0  3.46  128.71  -89.46     0.0\n",
       "2         0      0  3.66  135.64  -90.83     0.0\n",
       "3         0      0  3.33  128.34  -97.53     0.0\n",
       "4         0      0  3.23   96.31 -103.82     0.0"
      ]
     },
     "execution_count": 2,
     "metadata": {},
     "output_type": "execute_result"
    }
   ],
   "source": [
    "df = pd.read_excel(in_file, index_col=0)\n",
    "df.head()"
   ]
  },
  {
   "cell_type": "code",
   "execution_count": 3,
   "metadata": {},
   "outputs": [],
   "source": [
    "with open(out_file,\"w\") as f:\n",
    "    print(comment, file=f)\n",
    "    for i,row in df.iterrows():\n",
    "        print(\"{:10.2f}\".format(i), file=f)\n",
    "        print(\"{:10.2f} {:10.2f} {:10.2f} {:10.2f} {:10.2f} {:10.2f}\".format(*list(row)), file=f)"
   ]
  },
  {
   "cell_type": "code",
   "execution_count": null,
   "metadata": {},
   "outputs": [],
   "source": []
  }
 ],
 "metadata": {
  "kernelspec": {
   "display_name": "Python 3",
   "language": "python",
   "name": "python3"
  },
  "language_info": {
   "codemirror_mode": {
    "name": "ipython",
    "version": 3
   },
   "file_extension": ".py",
   "mimetype": "text/x-python",
   "name": "python",
   "nbconvert_exporter": "python",
   "pygments_lexer": "ipython3",
   "version": "3.8.10"
  }
 },
 "nbformat": 4,
 "nbformat_minor": 4
}

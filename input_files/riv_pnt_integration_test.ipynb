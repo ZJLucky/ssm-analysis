{
 "cells": [
  {
   "cell_type": "markdown",
   "id": "f3165b3b-62de-4167-8e65-a3c19b6765b0",
   "metadata": {},
   "source": [
    "Integration test for the rivers and point sources file conversion\n",
    "\n",
    "ssm_read_fwinputs.py and ssm_write_fwinputs.py work as a pair to convert the rivers and WQ point sources files into a unified Excel spreadsheed for easy editing, then back to their separate files again. Normally a simple writeback test with no modifications would easily confirm the process works, but because of how Pandas works the node order is not the same when the data is written back out.\n",
    "\n",
    "Thus this integration test: read the files into merged DataFrames, write them back out, then read the original and final files into separate DataFrames to compare the data. If everything matches, the test succeeds."
   ]
  },
  {
   "cell_type": "code",
   "execution_count": 1,
   "id": "5b7bad21-8156-49ad-bda7-43b3b994fc07",
   "metadata": {
    "tags": []
   },
   "outputs": [],
   "source": [
    "import os.path as path\n",
    "from tempfile import TemporaryDirectory\n",
    "\n",
    "import numpy as np\n",
    "import pandas as pd\n",
    "\n",
    "# The software under test\n",
    "from ssm_read_fwinputs import read_dat_file, read_merge_dats\n",
    "from ssm_write_fwinputs import write_dat_file, get_icm_data_only, convert_dates\n",
    "\n",
    "test_riv = '/home/benr/wqmodels/ssm/hyd_inputs/SSM_2014_DFO_mc_0.65alb_tsobc200m/ssm_riv.dat'\n",
    "test_pnt_wq = '/home/benr/wqmodels/ssm/wqm_inputs/SSM_2014_DO_Ph_T52/ssm_pnt_wq.dat'\n",
    "\n",
    "start_date = pd.Timestamp('2014.01.01')"
   ]
  },
  {
   "cell_type": "code",
   "execution_count": 2,
   "id": "74f9d15b-1ed0-4419-9a9f-ccdb2eaab07f",
   "metadata": {
    "tags": []
   },
   "outputs": [],
   "source": [
    "with open('/home/benr/wqmodels/ssm/hyd_inputs/SSM_2014_DFO_mc_0.65alb_tsobc200m/ssm_riv.dat') as f:\n",
    "    src_riv_dfs, src_riv_inftype, src_riv_pttype = read_dat_file(f, start_date, num_statevars=3)\n",
    "    with open('/home/benr/wqmodels/ssm/wqm_inputs/SSM_2014_DO_Ph_T52/ssm_pnt_wq.dat') as g:\n",
    "        src_pnt_dfs, src_pnt_inftype, src_pnt_pttype = read_dat_file(g, start_date)\n",
    "        f.seek(0)\n",
    "        g.seek(0)\n",
    "        src_merged_dfs, *junk = read_merge_dats(f, g, start_date)"
   ]
  },
  {
   "cell_type": "markdown",
   "id": "9bb5298c-01ea-4233-9854-6056e6564f91",
   "metadata": {},
   "source": [
    "Write the files back using a temporary directory, then read them in again"
   ]
  },
  {
   "cell_type": "code",
   "execution_count": 3,
   "id": "29feb8a1-3b0a-4ea7-b045-8fc50f777070",
   "metadata": {
    "tags": []
   },
   "outputs": [],
   "source": [
    "src_merged_dfs['data'] = convert_dates(src_merged_dfs['data'], start_date)\n",
    "with TemporaryDirectory() as d:\n",
    "    temp_riv_file = path.join(d, 'riv.dat')\n",
    "    temp_wq_file = path.join(d, 'pnt_wq.dat')\n",
    "    with open(temp_riv_file, 'w') as f:\n",
    "        write_dat_file(f, src_merged_dfs, src_riv_inftype, src_pnt_pttype,\n",
    "                       num_statevars=3)\n",
    "    with open(temp_wq_file, 'w') as f:\n",
    "        write_dat_file(f, get_icm_data_only(src_merged_dfs), src_pnt_inftype,\n",
    "                       src_pnt_pttype)\n",
    "\n",
    "    with open(temp_riv_file) as f:\n",
    "        final_riv_dfs, final_riv_inftype, final_riv_pttype = read_dat_file(f,\n",
    "                start_date, num_statevars=3)\n",
    "    with open(temp_wq_file) as f:\n",
    "        final_pnt_dfs, final_pnt_inftype, final_pnt_pttype = read_dat_file(f,\n",
    "                start_date)"
   ]
  },
  {
   "cell_type": "markdown",
   "id": "56a08157-003e-4983-b6f0-72aa836913d7",
   "metadata": {},
   "source": [
    "Now compare the data read in src_riv_dfs to final_riv_dfs. Ditto for src_pnt_dfs and final_pnt_dfs. They should be the same."
   ]
  },
  {
   "cell_type": "code",
   "execution_count": 4,
   "id": "70d2e230-7907-45c1-af62-e3ec24ba39d3",
   "metadata": {
    "tags": []
   },
   "outputs": [],
   "source": [
    "assert src_riv_inftype == final_riv_inftype\n",
    "assert src_riv_pttype == final_riv_pttype\n",
    "assert src_pnt_inftype == final_pnt_inftype\n",
    "assert src_pnt_pttype == final_pnt_pttype\n",
    "\n",
    "def dfs_match(df1, df2):\n",
    "    return np.all(df1.sort_index() == df2.sort_index())\n",
    "\n",
    "# Drop comments before comparing\n",
    "del src_riv_dfs['nodes']['Comment']\n",
    "del final_riv_dfs['nodes']['Comment']\n",
    "del src_pnt_dfs['nodes']['Comment']\n",
    "del final_pnt_dfs['nodes']['Comment']\n",
    "\n",
    "assert dfs_match(src_riv_dfs['nodes'], final_riv_dfs['nodes'])\n",
    "assert dfs_match(src_riv_dfs['vqdist'], final_riv_dfs['vqdist'])\n",
    "assert dfs_match(src_riv_dfs['data'], final_riv_dfs['data'])\n",
    "assert dfs_match(src_pnt_dfs['nodes'], final_pnt_dfs['nodes'])\n",
    "assert dfs_match(src_pnt_dfs['vqdist'], final_pnt_dfs['vqdist'])\n",
    "assert dfs_match(src_pnt_dfs['data'], final_pnt_dfs['data'])"
   ]
  },
  {
   "cell_type": "code",
   "execution_count": null,
   "id": "3b432a69-2fbe-4eed-b386-29aabffe3f1c",
   "metadata": {},
   "outputs": [],
   "source": []
  }
 ],
 "metadata": {
  "kernelspec": {
   "display_name": "Python [conda env:ssm-analysis]",
   "language": "python",
   "name": "conda-env-ssm-analysis-py"
  },
  "language_info": {
   "codemirror_mode": {
    "name": "ipython",
    "version": 3
   },
   "file_extension": ".py",
   "mimetype": "text/x-python",
   "name": "python",
   "nbconvert_exporter": "python",
   "pygments_lexer": "ipython3",
   "version": "3.8.12"
  }
 },
 "nbformat": 4,
 "nbformat_minor": 5
}

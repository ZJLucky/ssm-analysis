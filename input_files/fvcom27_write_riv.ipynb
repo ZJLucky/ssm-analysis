{
 "cells": [
  {
   "cell_type": "code",
   "execution_count": 1,
   "metadata": {},
   "outputs": [],
   "source": [
    "in_file = \"data/fvcom_riv_2014.nc\"\n",
    "comment = \"Auto-generated from BDR's ssm-analysis notebooks\"\n",
    "out_file = \"data/2014/ssm_riv.dat\"\n",
    "\n",
    "import numpy as np\n",
    "from netCDF4 import Dataset"
   ]
  },
  {
   "cell_type": "code",
   "execution_count": 2,
   "metadata": {},
   "outputs": [
    {
     "data": {
      "text/plain": [
       "<class 'netCDF4._netCDF4.Dataset'>\n",
       "root group (NETCDF4 data model, file format HDF5):\n",
       "    inflow_type: node\n",
       "    point_st_type: calculated\n",
       "    dimensions(sizes): time(365), node(201), siglay(10)\n",
       "    variables(dimensions): float32 time(time), int32 node(node), float32 vqdist(node, siglay), float32 discharge(time, node), float32 temp(time, node), float32 salt(time, node)\n",
       "    groups: "
      ]
     },
     "execution_count": 2,
     "metadata": {},
     "output_type": "execute_result"
    }
   ],
   "source": [
    "cdf = Dataset(in_file)\n",
    "cdf"
   ]
  },
  {
   "cell_type": "code",
   "execution_count": 4,
   "metadata": {},
   "outputs": [],
   "source": [
    "siglayers = cdf.dimensions['siglay'].size\n",
    "nodes = cdf.dimensions['node'].size\n",
    "times = cdf.dimensions['time'].size\n",
    "\n",
    "with open(out_file,\"w\") as f:\n",
    "    print(\"{0}  {1} ! {2}\".format(cdf.inflow_type, cdf.point_st_type, comment), file=f)\n",
    "    print(nodes, file=f)\n",
    "    for n in range(nodes):\n",
    "        print(\"{:7d}\".format(cdf['node'][n]), file=f)\n",
    "\n",
    "    # VQDIST\n",
    "    nodes_digits = int(np.ceil(np.log10(nodes+0.1)))\n",
    "    siglay_formatstr = \"{:%dd} \" % nodes_digits + \" \".join([\"{:.4f}\" for l in range(siglayers)])\n",
    "\n",
    "    for n in range(nodes):\n",
    "        print(siglay_formatstr.format(*[n+1] + list(cdf['vqdist'][n,:])), file=f)\n",
    "        \n",
    "    # Nqtime\n",
    "    print(\"{:8d}\".format(times), file=f)\n",
    "    \n",
    "    formatstr = \"\".join([\" {:9.3e}\" for l in range(nodes)])\n",
    "    for t in range(times):\n",
    "        print(\"{:9.2f}\".format(cdf['time'][t]), file=f)\n",
    "        for v in ('discharge','temp','salt'):\n",
    "            print(formatstr.format(*cdf[v][t,:]), file=f)"
   ]
  },
  {
   "cell_type": "code",
   "execution_count": 5,
   "metadata": {},
   "outputs": [],
   "source": [
    "cdf.close()"
   ]
  },
  {
   "cell_type": "code",
   "execution_count": null,
   "metadata": {},
   "outputs": [],
   "source": []
  }
 ],
 "metadata": {
  "kernelspec": {
   "display_name": "Python 3",
   "language": "python",
   "name": "python3"
  },
  "language_info": {
   "codemirror_mode": {
    "name": "ipython",
    "version": 3
   },
   "file_extension": ".py",
   "mimetype": "text/x-python",
   "name": "python",
   "nbconvert_exporter": "python",
   "pygments_lexer": "ipython3",
   "version": "3.8.10"
  }
 },
 "nbformat": 4,
 "nbformat_minor": 4
}

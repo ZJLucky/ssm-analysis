{
 "cells": [
  {
   "cell_type": "code",
   "execution_count": 1,
   "metadata": {},
   "outputs": [],
   "source": [
    "in_file = \"data/fvcom_tsobc_2014.nc\"\n",
    "comment = \"Auto-generated from BDR's ssm-analysis notebooks\"\n",
    "out_file = \"data/2014/ssm_tsobc.dat\"\n",
    "\n",
    "import numpy as np\n",
    "from netCDF4 import Dataset"
   ]
  },
  {
   "cell_type": "code",
   "execution_count": 2,
   "metadata": {},
   "outputs": [
    {
     "data": {
      "text/plain": [
       "<class 'netCDF4._netCDF4.Dataset'>\n",
       "root group (NETCDF4 data model, file format HDF5):\n",
       "    comment: 200 m depth obc\n",
       "    dimensions(sizes): time(14), node(87), siglay(10)\n",
       "    variables(dimensions): float32 time(time), int32 node(node), float32 temp(time, node, siglay), float32 salt(time, node, siglay)\n",
       "    groups: "
      ]
     },
     "execution_count": 2,
     "metadata": {},
     "output_type": "execute_result"
    }
   ],
   "source": [
    "cdf = Dataset(in_file)\n",
    "cdf"
   ]
  },
  {
   "cell_type": "code",
   "execution_count": 3,
   "metadata": {},
   "outputs": [],
   "source": [
    "siglayers = cdf.dimensions['siglay'].size\n",
    "nodes = cdf.dimensions['node'].size\n",
    "\n",
    "with open(out_file,\"w\") as f:\n",
    "    for t in range(cdf.dimensions['time'].size):\n",
    "        time = cdf['time'][t]\n",
    "        if t == 0:\n",
    "            print(\"{0:10.4f} ! {1}\".format(time, comment), file=f)\n",
    "        else:\n",
    "            print(\"{:10.4f}\".format(time), file=f)\n",
    "        formatstr = \"{:5d} {:4d} \" + \" \".join([\"{:10d}\" for l in range(siglayers)])\n",
    "        print(formatstr.format(*[nodes, siglayers] + list(np.arange(siglayers)+1)), file=f)\n",
    "        \n",
    "        formatstr = \"{:10d} \" + \" \".join([\"{:10.4f}\" for l in range(siglayers)])\n",
    "        for n in range(nodes):\n",
    "            print(formatstr.format(*[cdf['node'][n]] + list(cdf['temp'][t,n,:])), file=f)\n",
    "        for n in range(nodes):\n",
    "            print(formatstr.format(*[cdf['node'][n]] + list(cdf['salt'][t,n,:])), file=f)"
   ]
  },
  {
   "cell_type": "code",
   "execution_count": 4,
   "metadata": {},
   "outputs": [],
   "source": [
    "cdf.close()"
   ]
  },
  {
   "cell_type": "code",
   "execution_count": null,
   "metadata": {},
   "outputs": [],
   "source": []
  }
 ],
 "metadata": {
  "kernelspec": {
   "display_name": "Python 3",
   "language": "python",
   "name": "python3"
  },
  "language_info": {
   "codemirror_mode": {
    "name": "ipython",
    "version": 3
   },
   "file_extension": ".py",
   "mimetype": "text/x-python",
   "name": "python",
   "nbconvert_exporter": "python",
   "pygments_lexer": "ipython3",
   "version": "3.8.10"
  }
 },
 "nbformat": 4,
 "nbformat_minor": 4
}

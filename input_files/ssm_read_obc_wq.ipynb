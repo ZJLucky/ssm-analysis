{
 "cells": [
  {
   "cell_type": "code",
   "execution_count": 3,
   "metadata": {},
   "outputs": [],
   "source": [
    "obc_file = \"/home/benr/wqmodels/ssm/wqm-test/inputs/ssm_obc_wq.dat\"\n",
    "out_file = \"data/ssm_obc_2014.nc\"\n",
    "\n",
    "import numpy as np\n",
    "from netCDF4 import Dataset"
   ]
  },
  {
   "cell_type": "code",
   "execution_count": 12,
   "metadata": {},
   "outputs": [
    {
     "name": "stdout",
     "output_type": "stream",
     "text": [
      "Times: (14,)\n",
      "Nodes: (87,)\n",
      "NO32: (14, 87, 10)\n"
     ]
    },
    {
     "data": {
      "text/plain": [
       "array([[[0.1727, 0.1736, 0.1761, ..., 0.1823, 0.1823, 0.1823],\n",
       "        [0.2069, 0.2094, 0.214 , ..., 0.2236, 0.2236, 0.2236],\n",
       "        [0.2335, 0.2342, 0.2349, ..., 0.2392, 0.2392, 0.2392],\n",
       "        ...,\n",
       "        [0.0756, 0.0756, 0.0753, ..., 0.0884, 0.172 , 0.172 ],\n",
       "        [0.0687, 0.0689, 0.0689, ..., 0.0758, 0.0765, 0.0765],\n",
       "        [0.0572, 0.0574, 0.0574, ..., 0.0584, 0.0584, 0.0584]],\n",
       "\n",
       "       [[0.1727, 0.1736, 0.1761, ..., 0.1823, 0.1823, 0.1823],\n",
       "        [0.2069, 0.2094, 0.214 , ..., 0.2236, 0.2236, 0.2236],\n",
       "        [0.2335, 0.2342, 0.2349, ..., 0.2392, 0.2392, 0.2392],\n",
       "        ...,\n",
       "        [0.0756, 0.0756, 0.0753, ..., 0.0884, 0.172 , 0.172 ],\n",
       "        [0.0687, 0.0689, 0.0689, ..., 0.0758, 0.0765, 0.0765],\n",
       "        [0.0572, 0.0574, 0.0574, ..., 0.0584, 0.0584, 0.0584]],\n",
       "\n",
       "       [[0.1513, 0.1509, 0.15  , ..., 0.1458, 0.1458, 0.1458],\n",
       "        [0.177 , 0.1761, 0.1741, ..., 0.1672, 0.1672, 0.1672],\n",
       "        [0.1993, 0.1984, 0.1968, ..., 0.1906, 0.1906, 0.1906],\n",
       "        ...,\n",
       "        [0.0776, 0.0779, 0.0781, ..., 0.0806, 0.0843, 0.0843],\n",
       "        [0.0756, 0.0756, 0.0756, ..., 0.074 , 0.0733, 0.0733],\n",
       "        [0.0705, 0.0705, 0.0708, ..., 0.0701, 0.0701, 0.0701]],\n",
       "\n",
       "       ...,\n",
       "\n",
       "       [[0.1343, 0.135 , 0.1456, ..., 0.1488, 0.1488, 0.1488],\n",
       "        [0.1415, 0.1421, 0.1449, ..., 0.1637, 0.1637, 0.1637],\n",
       "        [0.1506, 0.1513, 0.1532, ..., 0.1924, 0.1924, 0.1924],\n",
       "        ...,\n",
       "        [0.0108, 0.0111, 0.0113, ..., 0.1208, 0.3047, 0.3047],\n",
       "        [0.0035, 0.0035, 0.0037, ..., 0.1011, 0.1855, 0.1855],\n",
       "        [0.    , 0.    , 0.    , ..., 0.    , 0.    , 0.    ]],\n",
       "\n",
       "       [[0.1307, 0.1307, 0.1307, ..., 0.1309, 0.1309, 0.1309],\n",
       "        [0.147 , 0.1474, 0.1477, ..., 0.1502, 0.1502, 0.1502],\n",
       "        [0.1607, 0.161 , 0.161 , ..., 0.1628, 0.1628, 0.1628],\n",
       "        ...,\n",
       "        [0.0597, 0.06  , 0.06  , ..., 0.0779, 0.0926, 0.0926],\n",
       "        [0.0597, 0.0597, 0.06  , ..., 0.0634, 0.0643, 0.0643],\n",
       "        [0.0494, 0.0494, 0.0494, ..., 0.0492, 0.0492, 0.0492]],\n",
       "\n",
       "       [[0.1307, 0.1307, 0.1307, ..., 0.1309, 0.1309, 0.1309],\n",
       "        [0.147 , 0.1474, 0.1477, ..., 0.1502, 0.1502, 0.1502],\n",
       "        [0.1607, 0.161 , 0.161 , ..., 0.1628, 0.1628, 0.1628],\n",
       "        ...,\n",
       "        [0.0597, 0.06  , 0.06  , ..., 0.0779, 0.0926, 0.0926],\n",
       "        [0.0597, 0.0597, 0.06  , ..., 0.0634, 0.0643, 0.0643],\n",
       "        [0.0494, 0.0494, 0.0494, ..., 0.0492, 0.0492, 0.0492]]])"
      ]
     },
     "execution_count": 12,
     "metadata": {},
     "output_type": "execute_result"
    }
   ],
   "source": [
    "with open(obc_file) as f:\n",
    "    num_bns = np.loadtxt([next(f)], dtype=int, comments='!')\n",
    "    # The first column is just a counter, ignore\n",
    "    nodes = np.loadtxt([next(f) for n in range(num_bns)], dtype=int)[:,1]\n",
    "    \n",
    "    # The water quality variables are the same as ssm_read_pnt except discharge\n",
    "    statevars = ('temp', 'salt', 'tss',  'alg1', 'alg2', 'alg3', 'zoo1',\n",
    "                 'zoo2', 'ldoc', 'rdoc', 'lpoc', 'rpoc', 'nh4',  'no32',\n",
    "                 'urea', 'ldon', 'rdon', 'lpon', 'rpon', 'po4',  'ldop',\n",
    "                 'rdop', 'lpop', 'rpop', 'pip',  'cod',  'doxg', 'psi',\n",
    "                 'dsi',  'alg1p','alg2p','alg3p','dic',  'talk')\n",
    "    statedata = {}\n",
    "    for v in statevars:\n",
    "        statedata[v] = []\n",
    "    \n",
    "    times = []\n",
    "    t_line = next(f)\n",
    "    while True:\n",
    "        times.append(float(t_line))\n",
    "        for v in statevars:\n",
    "            # Each line contains a state variable counter (which we don't need because\n",
    "            # it's implied) and the concentrations at one boundary node's sigma layers\n",
    "            statedata[v].append(np.loadtxt([next(f) for l in range(num_bns)])[:,1:])\n",
    "        # Look for the next time index, which might fail if we're at the end-of-file\n",
    "        try:\n",
    "            t_line = next(f)\n",
    "        except StopIteration:\n",
    "            break\n",
    "\n",
    "times = np.array(times)\n",
    "for v in statevars:\n",
    "    statedata[v] = np.array(statedata[v])\n",
    "\n",
    "print(\"Times:\", times.shape)\n",
    "print(\"Nodes:\", nodes.shape)\n",
    "print(\"NO32:\", statedata['no32'].shape)\n",
    "statedata['no32']"
   ]
  },
  {
   "cell_type": "code",
   "execution_count": 13,
   "metadata": {},
   "outputs": [
    {
     "data": {
      "text/plain": [
       "<class 'netCDF4._netCDF4.Dataset'>\n",
       "root group (NETCDF4 data model, file format HDF5):\n",
       "    dimensions(sizes): time(14), node(87), siglay(10)\n",
       "    variables(dimensions): float32 time(time), int32 node(node), float32 temp(time, node, siglay), float32 salt(time, node, siglay), float32 tss(time, node, siglay), float32 alg1(time, node, siglay), float32 alg2(time, node, siglay), float32 alg3(time, node, siglay), float32 zoo1(time, node, siglay), float32 zoo2(time, node, siglay), float32 ldoc(time, node, siglay), float32 rdoc(time, node, siglay), float32 lpoc(time, node, siglay), float32 rpoc(time, node, siglay), float32 nh4(time, node, siglay), float32 no32(time, node, siglay), float32 urea(time, node, siglay), float32 ldon(time, node, siglay), float32 rdon(time, node, siglay), float32 lpon(time, node, siglay), float32 rpon(time, node, siglay), float32 po4(time, node, siglay), float32 ldop(time, node, siglay), float32 rdop(time, node, siglay), float32 lpop(time, node, siglay), float32 rpop(time, node, siglay), float32 pip(time, node, siglay), float32 cod(time, node, siglay), float32 doxg(time, node, siglay), float32 psi(time, node, siglay), float32 dsi(time, node, siglay), float32 alg1p(time, node, siglay), float32 alg2p(time, node, siglay), float32 alg3p(time, node, siglay), float32 dic(time, node, siglay), float32 talk(time, node, siglay)\n",
       "    groups: "
      ]
     },
     "execution_count": 13,
     "metadata": {},
     "output_type": "execute_result"
    }
   ],
   "source": [
    "cdf = Dataset(out_file, \"w\")\n",
    "\n",
    "time_dim = cdf.createDimension(\"time\", len(times))\n",
    "node_dim = cdf.createDimension(\"node\", num_bns)\n",
    "siglay_dim = cdf.createDimension(\"siglay\", statedata['temp'].shape[2])\n",
    "\n",
    "time_var = cdf.createVariable(\"time\", \"f4\", (\"time\",))\n",
    "time_var.unit = \"days\"\n",
    "cdf['time'][:] = times\n",
    "node_var = cdf.createVariable(\"node\", \"i4\", (\"node\",))\n",
    "cdf['node'][:] = nodes\n",
    "\n",
    "for v in statevars:\n",
    "    var = cdf.createVariable(v, \"f4\", (\"time\",\"node\",\"siglay\"))\n",
    "    cdf[v][:] = statedata[v]\n",
    "\n",
    "cdf"
   ]
  },
  {
   "cell_type": "code",
   "execution_count": 14,
   "metadata": {},
   "outputs": [],
   "source": [
    "cdf.close()"
   ]
  },
  {
   "cell_type": "code",
   "execution_count": null,
   "metadata": {},
   "outputs": [],
   "source": []
  }
 ],
 "metadata": {
  "kernelspec": {
   "display_name": "Python 3",
   "language": "python",
   "name": "python3"
  },
  "language_info": {
   "codemirror_mode": {
    "name": "ipython",
    "version": 3
   },
   "file_extension": ".py",
   "mimetype": "text/x-python",
   "name": "python",
   "nbconvert_exporter": "python",
   "pygments_lexer": "ipython3",
   "version": "3.8.10"
  }
 },
 "nbformat": 4,
 "nbformat_minor": 4
}

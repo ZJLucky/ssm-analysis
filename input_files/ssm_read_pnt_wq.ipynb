{
 "cells": [
  {
   "cell_type": "code",
   "execution_count": 1,
   "metadata": {},
   "outputs": [],
   "source": [
    "pnt_file = \"/home/benr/wqmodels/ssm/wqm-test/inputs/ssm_pnt_wq.dat\"\n",
    "out_file = \"data/ssm_pnt_2014.nc\"\n",
    "\n",
    "import numpy as np\n",
    "from netCDF4 import Dataset"
   ]
  },
  {
   "cell_type": "code",
   "execution_count": 2,
   "metadata": {},
   "outputs": [
    {
     "name": "stdout",
     "output_type": "stream",
     "text": [
      "Times: (365,)\n",
      "Nodes: (193,)\n",
      "VQdist: (193, 10)\n",
      "NO32: (365, 193)\n"
     ]
    },
    {
     "data": {
      "text/plain": [
       "array([[ 0.1161,  0.1161,  0.712 , ..., 32.5   ,  6.852 ,  6.148 ],\n",
       "       [ 0.1221,  0.1221,  0.7112, ..., 32.5   ,  6.852 ,  6.148 ],\n",
       "       [ 0.1248,  0.1248,  0.7031, ..., 32.5   ,  6.852 ,  6.148 ],\n",
       "       ...,\n",
       "       [ 0.1217,  0.1217,  0.7224, ..., 27.5   ,  5.711 ,  5.033 ],\n",
       "       [ 0.1209,  0.1209,  0.7221, ..., 27.5   ,  5.711 ,  5.033 ],\n",
       "       [ 0.1191,  0.1191,  0.7205, ..., 27.5   ,  5.711 ,  5.033 ]])"
      ]
     },
     "execution_count": 2,
     "metadata": {},
     "output_type": "execute_result"
    }
   ],
   "source": [
    "with open(pnt_file) as f:\n",
    "    # The parsing logic here is is derived from the linkage instructions for the\n",
    "    # model and direct examination of the source code\n",
    "    \n",
    "    # The first line does not contain important information and is treated only like\n",
    "    # a filetype magic\n",
    "    next(f)\n",
    "\n",
    "    # The total number of discharge nodes\n",
    "    num_qs = int(next(f))\n",
    "    # All the node numbers with discharges\n",
    "    nodes = np.loadtxt([next(f) for l in range(num_qs)], comments='!', dtype=int)\n",
    "    # Depth distribution fractions into each node. Skipping the first (node count) column\n",
    "    vqdist = np.loadtxt([next(f) for l in range(num_qs)])[:,1:]\n",
    "\n",
    "    num_times = int(next(f))\n",
    "\n",
    "    # Initialize storage arrays\n",
    "    times = np.zeros(num_times)\n",
    "    qs = np.zeros((num_times, num_qs))\n",
    "    # State variables in the order they are present in the file. These are also going\n",
    "    # to be the NetCDF variable names\n",
    "    statevars = ('discharge', 'temp', 'salt', 'tss',  'alg1', 'alg2', 'alg3', 'zoo1',\n",
    "                              'zoo2', 'ldoc', 'rdoc', 'lpoc', 'rpoc', 'nh4',  'no32',\n",
    "                              'urea', 'ldon', 'rdon', 'lpon', 'rpon', 'po4',  'ldop',\n",
    "                              'rdop', 'lpop', 'rpop', 'pip',  'cod',  'doxg', 'psi',\n",
    "                              'dsi',  'alg1p','alg2p','alg3p','dic',  'talk')\n",
    "    statedata = {}\n",
    "    for v in statevars:\n",
    "        statedata[v] = np.zeros((num_times, num_qs))\n",
    "\n",
    "    for t in range(num_times):\n",
    "        times[t] = float(next(f))\n",
    "        for v in statevars:\n",
    "            statedata[v][t,:] = np.loadtxt([next(f)])\n",
    "\n",
    "print(\"Times:\", times.shape)\n",
    "print(\"Nodes:\", nodes.shape)\n",
    "print(\"VQdist:\", vqdist.shape)\n",
    "print(\"NO32:\", statedata['no32'].shape)\n",
    "statedata['no32']"
   ]
  },
  {
   "cell_type": "code",
   "execution_count": 3,
   "metadata": {},
   "outputs": [
    {
     "data": {
      "text/plain": [
       "<class 'netCDF4._netCDF4.Dataset'>\n",
       "root group (NETCDF4 data model, file format HDF5):\n",
       "    dimensions(sizes): time(365), node(193), siglay(10)\n",
       "    variables(dimensions): float32 time(time), int32 node(node), float32 vqdist(node, siglay), float32 discharge(time, node), float32 temp(time, node), float32 salt(time, node), float32 tss(time, node), float32 alg1(time, node), float32 alg2(time, node), float32 alg3(time, node), float32 zoo1(time, node), float32 zoo2(time, node), float32 ldoc(time, node), float32 rdoc(time, node), float32 lpoc(time, node), float32 rpoc(time, node), float32 nh4(time, node), float32 no32(time, node), float32 urea(time, node), float32 ldon(time, node), float32 rdon(time, node), float32 lpon(time, node), float32 rpon(time, node), float32 po4(time, node), float32 ldop(time, node), float32 rdop(time, node), float32 lpop(time, node), float32 rpop(time, node), float32 pip(time, node), float32 cod(time, node), float32 doxg(time, node), float32 psi(time, node), float32 dsi(time, node), float32 alg1p(time, node), float32 alg2p(time, node), float32 alg3p(time, node), float32 dic(time, node), float32 talk(time, node)\n",
       "    groups: "
      ]
     },
     "execution_count": 3,
     "metadata": {},
     "output_type": "execute_result"
    }
   ],
   "source": [
    "cdf = Dataset(out_file, \"w\")\n",
    "\n",
    "time_dim = cdf.createDimension(\"time\", len(times))\n",
    "node_dim = cdf.createDimension(\"node\", num_qs)\n",
    "siglay_dim = cdf.createDimension(\"siglay\", vqdist.shape[1])\n",
    "\n",
    "time_var = cdf.createVariable(\"time\", \"f4\", (\"time\",))\n",
    "time_var.unit = \"hours\"\n",
    "cdf['time'][:] = times\n",
    "node_var = cdf.createVariable(\"node\", \"i4\", (\"node\",))\n",
    "cdf['node'][:] = nodes\n",
    "vqdist_var = cdf.createVariable(\"vqdist\", \"f4\", (\"node\",\"siglay\"))\n",
    "cdf['vqdist'][:] = vqdist\n",
    "\n",
    "for v in statevars:\n",
    "    var = cdf.createVariable(v, \"f4\", (\"time\",\"node\"))\n",
    "    cdf[v][:] = statedata[v]\n",
    "\n",
    "cdf"
   ]
  },
  {
   "cell_type": "code",
   "execution_count": 4,
   "metadata": {},
   "outputs": [],
   "source": [
    "cdf.close()"
   ]
  },
  {
   "cell_type": "code",
   "execution_count": null,
   "metadata": {},
   "outputs": [],
   "source": []
  }
 ],
 "metadata": {
  "kernelspec": {
   "display_name": "Python 3",
   "language": "python",
   "name": "python3"
  },
  "language_info": {
   "codemirror_mode": {
    "name": "ipython",
    "version": 3
   },
   "file_extension": ".py",
   "mimetype": "text/x-python",
   "name": "python",
   "nbconvert_exporter": "python",
   "pygments_lexer": "ipython3",
   "version": "3.8.10"
  }
 },
 "nbformat": 4,
 "nbformat_minor": 4
}

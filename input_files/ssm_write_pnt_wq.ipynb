{
 "cells": [
  {
   "cell_type": "code",
   "execution_count": 1,
   "metadata": {},
   "outputs": [],
   "source": [
    "in_file = \"data/ssm_pnt_2014.nc\"\n",
    "comment = \"Auto-generated from BDR's ssm-analysis notebooks\"\n",
    "out_file = \"data/2014/ssm_pnt_wq.dat\"\n",
    "\n",
    "import numpy as np\n",
    "from netCDF4 import Dataset"
   ]
  },
  {
   "cell_type": "code",
   "execution_count": 2,
   "metadata": {},
   "outputs": [
    {
     "data": {
      "text/plain": [
       "<class 'netCDF4._netCDF4.Dataset'>\n",
       "root group (NETCDF4 data model, file format HDF5):\n",
       "    dimensions(sizes): time(365), node(193), siglay(10)\n",
       "    variables(dimensions): float32 time(time), int32 node(node), float32 vqdist(node, siglay), float32 discharge(time, node), float32 temp(time, node), float32 salt(time, node), float32 tss(time, node), float32 alg1(time, node), float32 alg2(time, node), float32 alg3(time, node), float32 zoo1(time, node), float32 zoo2(time, node), float32 ldoc(time, node), float32 rdoc(time, node), float32 lpoc(time, node), float32 rpoc(time, node), float32 nh4(time, node), float32 no32(time, node), float32 urea(time, node), float32 ldon(time, node), float32 rdon(time, node), float32 lpon(time, node), float32 rpon(time, node), float32 po4(time, node), float32 ldop(time, node), float32 rdop(time, node), float32 lpop(time, node), float32 rpop(time, node), float32 pip(time, node), float32 cod(time, node), float32 doxg(time, node), float32 psi(time, node), float32 dsi(time, node), float32 alg1p(time, node), float32 alg2p(time, node), float32 alg3p(time, node), float32 dic(time, node), float32 talk(time, node)\n",
       "    groups: "
      ]
     },
     "execution_count": 2,
     "metadata": {},
     "output_type": "execute_result"
    }
   ],
   "source": [
    "cdf = Dataset(in_file)\n",
    "cdf"
   ]
  },
  {
   "cell_type": "code",
   "execution_count": 3,
   "metadata": {},
   "outputs": [],
   "source": [
    "siglayers = cdf.dimensions['siglay'].size\n",
    "nodes = cdf.dimensions['node'].size\n",
    "times = cdf.dimensions['time'].size\n",
    "\n",
    "with open(out_file,\"w\") as f:\n",
    "    print(\"point  calculated ! {}\".format(comment), file=f)\n",
    "    print(nodes, file=f)\n",
    "    for n in range(nodes):\n",
    "        print(\"{:7d}\".format(cdf['node'][n]), file=f)\n",
    "\n",
    "    # VQDIST\n",
    "    nodes_digits = int(np.ceil(np.log10(nodes+0.1)))\n",
    "    siglay_formatstr = \"{:%dd} \" % nodes_digits + \" \".join([\"{:.4f}\" for l in range(siglayers)])\n",
    "\n",
    "    for n in range(nodes):\n",
    "        print(siglay_formatstr.format(*[n+1] + list(cdf['vqdist'][n,:])), file=f)\n",
    "        \n",
    "    statevars = ('discharge', 'temp', 'salt', 'tss',  'alg1', 'alg2', 'alg3', 'zoo1',\n",
    "                              'zoo2', 'ldoc', 'rdoc', 'lpoc', 'rpoc', 'nh4',  'no32',\n",
    "                              'urea', 'ldon', 'rdon', 'lpon', 'rpon', 'po4',  'ldop',\n",
    "                              'rdop', 'lpop', 'rpop', 'pip',  'cod',  'doxg', 'psi',\n",
    "                              'dsi',  'alg1p','alg2p','alg3p','dic',  'talk')\n",
    "    \n",
    "    # Nqtime\n",
    "    print(\"{:8d}\".format(times), file=f)\n",
    "    \n",
    "    formatstr = \"\".join([\" {:9.8g}\" for l in range(nodes)])\n",
    "    for t in range(times):\n",
    "        print(\"{:9.2f}\".format(cdf['time'][t]), file=f)\n",
    "        for v in statevars:\n",
    "            print(formatstr.format(*cdf[v][t,:]), file=f)"
   ]
  },
  {
   "cell_type": "code",
   "execution_count": 4,
   "metadata": {},
   "outputs": [],
   "source": [
    "cdf.close()"
   ]
  },
  {
   "cell_type": "code",
   "execution_count": null,
   "metadata": {},
   "outputs": [],
   "source": []
  }
 ],
 "metadata": {
  "kernelspec": {
   "display_name": "Python [conda env:ssm-analysis]",
   "language": "python",
   "name": "conda-env-ssm-analysis-py"
  },
  "language_info": {
   "codemirror_mode": {
    "name": "ipython",
    "version": 3
   },
   "file_extension": ".py",
   "mimetype": "text/x-python",
   "name": "python",
   "nbconvert_exporter": "python",
   "pygments_lexer": "ipython3",
   "version": "3.8.12"
  }
 },
 "nbformat": 4,
 "nbformat_minor": 4
}
